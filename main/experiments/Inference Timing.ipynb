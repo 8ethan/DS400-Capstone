{
 "cells": [
  {
   "cell_type": "code",
   "execution_count": 1,
   "id": "d602469b",
   "metadata": {},
   "outputs": [],
   "source": [
    "import tensorflow as tf\n",
    "import time"
   ]
  },
  {
   "cell_type": "code",
   "execution_count": 2,
   "id": "50561987",
   "metadata": {},
   "outputs": [],
   "source": [
    "import pandas as pd\n",
    "import seaborn as sns\n",
    "import pickle\n",
    "from sklearn import preprocessing\n",
    "from sklearn.pipeline import Pipeline\n",
    "from sklearn.model_selection import StratifiedKFold\n",
    "from sklearn.model_selection import train_test_split\n",
    "from sklearn.compose import ColumnTransformer\n",
    "from sklearn.impute import SimpleImputer\n",
    "from sklearn.preprocessing import OneHotEncoder,OrdinalEncoder,StandardScaler,MinMaxScaler,LabelEncoder\n",
    "import numpy as np"
   ]
  },
  {
   "cell_type": "code",
   "execution_count": 3,
   "id": "4aa23881",
   "metadata": {},
   "outputs": [],
   "source": [
    "numeric_features = [\"duration\",\"orig_bytes\",\"resp_bytes\", \"missed_bytes\",\"local_orig\",\"local_resp\",\n",
    "                    \"orig_pkts\",\"orig_ip_bytes\",\"resp_pkts\",\"resp_ip_bytes\"]\n",
    "\n",
    "onehotlists = [\"proto\",\"service\",'conn_state','history',\"tunnel_parents\"]"
   ]
  },
  {
   "cell_type": "code",
   "execution_count": 4,
   "id": "71de2d80",
   "metadata": {},
   "outputs": [],
   "source": [
    "with open(r\"f17_pipeline.pkl\", \"rb\") as input_file:\n",
    "    F17_preprocessor = pickle.load(input_file)\n",
    "    input_file.close()"
   ]
  },
  {
   "cell_type": "code",
   "execution_count": 5,
   "id": "996626f0",
   "metadata": {},
   "outputs": [],
   "source": [
    "def detailed_label_converter (x):\n",
    "    if x == '-':\n",
    "        return 0\n",
    "    elif  x == \"PartOfAHorizontalPortScan\":\n",
    "        return 1\n",
    "    elif x == \"DDoS\":\n",
    "        return 2\n",
    "    else:\n",
    "        return 3\n",
    "    \n",
    "def binary_label_converter (x):\n",
    "    if str(x).lower() == 'benign':\n",
    "        return 0\n",
    "    else:\n",
    "        return 1\n",
    "    \n",
    "def insertnumbers (x):\n",
    "    if ((x == '-') | (x == '(empty)')):\n",
    "        return 99\n",
    "    else:\n",
    "        return x"
   ]
  },
  {
   "cell_type": "code",
   "execution_count": 6,
   "id": "1b503046",
   "metadata": {},
   "outputs": [],
   "source": [
    "def matrix_to3D(X_train, X_test):\n",
    "    dim1 = X_train.shape[1]\n",
    "    divs = [i for i in range(1,dim1+1) if (dim1%i == 0)]\n",
    "    if len(divs) == 2: # i.e. prime number\n",
    "        # Add zeros column\n",
    "        X_train = np.concatenate((X_train, np.zeros((X_train.shape[0],1))), axis=1)\n",
    "        X_test = np.concatenate((X_test, np.zeros((X_test.shape[0],1))), axis=1)\n",
    "        dim1 = X_train.shape[1]\n",
    "        divs = [i for i in range(1,dim1+1) if (dim1%i == 0)]        \n",
    "    mid_idx = len(divs)//2\n",
    "\n",
    "    return X_train.reshape(-1, divs[mid_idx], int(dim1/divs[mid_idx]), 1), X_test.reshape(-1, divs[mid_idx], int(dim1/divs[mid_idx]), 1)"
   ]
  },
  {
   "cell_type": "code",
   "execution_count": 7,
   "id": "8761d50a",
   "metadata": {},
   "outputs": [],
   "source": [
    "ANN_model = tf.keras.models.load_model('ANN_Binary_3')"
   ]
  },
  {
   "cell_type": "code",
   "execution_count": 8,
   "id": "19bab5fc",
   "metadata": {},
   "outputs": [],
   "source": [
    "CNN_model = tf.keras.models.load_model('CNN_Binary_3')"
   ]
  },
  {
   "cell_type": "code",
   "execution_count": 9,
   "id": "f0d49e07",
   "metadata": {},
   "outputs": [],
   "source": [
    "CNN2D_model = tf.keras.models.load_model('CNN2D_Binary_3')"
   ]
  },
  {
   "cell_type": "code",
   "execution_count": 10,
   "id": "ff2745d5",
   "metadata": {},
   "outputs": [],
   "source": [
    "LSTM_model = tf.keras.models.load_model('LSTM_Binary_3')"
   ]
  },
  {
   "cell_type": "code",
   "execution_count": 11,
   "id": "17df7f91",
   "metadata": {},
   "outputs": [],
   "source": [
    "CNN_LSTM_model = tf.keras.models.load_model('CNN_LSTM_Binary_3')"
   ]
  },
  {
   "cell_type": "code",
   "execution_count": 12,
   "id": "eb1382d4",
   "metadata": {},
   "outputs": [],
   "source": [
    "# Load in data for inferences\n",
    "#inference_df = pd.read_csv(\"./IoT23_Dataset/original/datasets/3_data_v2/S04_R_5_000_000.csv\")\n",
    "df1 = pd.read_csv('./IoT23_Dataset/original/datasets/3_data_v2/S04_R_1_000_IoT0.csv')\n",
    "#df2 = pd.read_csv('./IoT23_Dataset/original/datasets/3_data_v2/S04_R_1_000_IoT1.csv')\n",
    "#df3 = pd.read_csv('./IoT23_Dataset/original/datasets/3_data_v2/S04_R_1_000_IoT2.csv')"
   ]
  },
  {
   "cell_type": "code",
   "execution_count": 13,
   "id": "2875b853",
   "metadata": {},
   "outputs": [],
   "source": [
    "df1.drop(columns=['ts', 'uid', 'id.orig_h', 'id.orig_p','id.resp_h','id.resp_p', 'detailed-label'], inplace=True)"
   ]
  },
  {
   "cell_type": "code",
   "execution_count": 14,
   "id": "7f463da6",
   "metadata": {
    "scrolled": true
   },
   "outputs": [
    {
     "data": {
      "text/html": [
       "<div>\n",
       "<style scoped>\n",
       "    .dataframe tbody tr th:only-of-type {\n",
       "        vertical-align: middle;\n",
       "    }\n",
       "\n",
       "    .dataframe tbody tr th {\n",
       "        vertical-align: top;\n",
       "    }\n",
       "\n",
       "    .dataframe thead th {\n",
       "        text-align: right;\n",
       "    }\n",
       "</style>\n",
       "<table border=\"1\" class=\"dataframe\">\n",
       "  <thead>\n",
       "    <tr style=\"text-align: right;\">\n",
       "      <th></th>\n",
       "      <th>proto</th>\n",
       "      <th>service</th>\n",
       "      <th>duration</th>\n",
       "      <th>orig_bytes</th>\n",
       "      <th>resp_bytes</th>\n",
       "      <th>conn_state</th>\n",
       "      <th>local_orig</th>\n",
       "      <th>local_resp</th>\n",
       "      <th>missed_bytes</th>\n",
       "      <th>history</th>\n",
       "      <th>orig_pkts</th>\n",
       "      <th>orig_ip_bytes</th>\n",
       "      <th>resp_pkts</th>\n",
       "      <th>resp_ip_bytes</th>\n",
       "      <th>tunnel_parents</th>\n",
       "      <th>label</th>\n",
       "    </tr>\n",
       "  </thead>\n",
       "  <tbody>\n",
       "    <tr>\n",
       "      <th>0</th>\n",
       "      <td>tcp</td>\n",
       "      <td>-</td>\n",
       "      <td>-</td>\n",
       "      <td>-</td>\n",
       "      <td>-</td>\n",
       "      <td>S0</td>\n",
       "      <td>-</td>\n",
       "      <td>-</td>\n",
       "      <td>0</td>\n",
       "      <td>S</td>\n",
       "      <td>1</td>\n",
       "      <td>40</td>\n",
       "      <td>0</td>\n",
       "      <td>0</td>\n",
       "      <td>-</td>\n",
       "      <td>Malicious</td>\n",
       "    </tr>\n",
       "    <tr>\n",
       "      <th>1</th>\n",
       "      <td>tcp</td>\n",
       "      <td>-</td>\n",
       "      <td>-</td>\n",
       "      <td>-</td>\n",
       "      <td>-</td>\n",
       "      <td>S0</td>\n",
       "      <td>-</td>\n",
       "      <td>-</td>\n",
       "      <td>0</td>\n",
       "      <td>S</td>\n",
       "      <td>1</td>\n",
       "      <td>40</td>\n",
       "      <td>0</td>\n",
       "      <td>0</td>\n",
       "      <td>-</td>\n",
       "      <td>Malicious</td>\n",
       "    </tr>\n",
       "    <tr>\n",
       "      <th>2</th>\n",
       "      <td>tcp</td>\n",
       "      <td>-</td>\n",
       "      <td>0.000002</td>\n",
       "      <td>0</td>\n",
       "      <td>0</td>\n",
       "      <td>S0</td>\n",
       "      <td>-</td>\n",
       "      <td>-</td>\n",
       "      <td>0</td>\n",
       "      <td>S</td>\n",
       "      <td>2</td>\n",
       "      <td>80</td>\n",
       "      <td>0</td>\n",
       "      <td>0</td>\n",
       "      <td>-</td>\n",
       "      <td>Malicious</td>\n",
       "    </tr>\n",
       "    <tr>\n",
       "      <th>3</th>\n",
       "      <td>tcp</td>\n",
       "      <td>-</td>\n",
       "      <td>0.000005</td>\n",
       "      <td>0</td>\n",
       "      <td>0</td>\n",
       "      <td>S0</td>\n",
       "      <td>-</td>\n",
       "      <td>-</td>\n",
       "      <td>0</td>\n",
       "      <td>S</td>\n",
       "      <td>2</td>\n",
       "      <td>80</td>\n",
       "      <td>0</td>\n",
       "      <td>0</td>\n",
       "      <td>-</td>\n",
       "      <td>Malicious</td>\n",
       "    </tr>\n",
       "    <tr>\n",
       "      <th>4</th>\n",
       "      <td>tcp</td>\n",
       "      <td>-</td>\n",
       "      <td>-</td>\n",
       "      <td>-</td>\n",
       "      <td>-</td>\n",
       "      <td>OTH</td>\n",
       "      <td>-</td>\n",
       "      <td>-</td>\n",
       "      <td>0</td>\n",
       "      <td>C</td>\n",
       "      <td>0</td>\n",
       "      <td>0</td>\n",
       "      <td>0</td>\n",
       "      <td>0</td>\n",
       "      <td>-</td>\n",
       "      <td>Malicious</td>\n",
       "    </tr>\n",
       "    <tr>\n",
       "      <th>...</th>\n",
       "      <td>...</td>\n",
       "      <td>...</td>\n",
       "      <td>...</td>\n",
       "      <td>...</td>\n",
       "      <td>...</td>\n",
       "      <td>...</td>\n",
       "      <td>...</td>\n",
       "      <td>...</td>\n",
       "      <td>...</td>\n",
       "      <td>...</td>\n",
       "      <td>...</td>\n",
       "      <td>...</td>\n",
       "      <td>...</td>\n",
       "      <td>...</td>\n",
       "      <td>...</td>\n",
       "      <td>...</td>\n",
       "    </tr>\n",
       "    <tr>\n",
       "      <th>3995</th>\n",
       "      <td>tcp</td>\n",
       "      <td>-</td>\n",
       "      <td>-</td>\n",
       "      <td>-</td>\n",
       "      <td>-</td>\n",
       "      <td>S0</td>\n",
       "      <td>-</td>\n",
       "      <td>-</td>\n",
       "      <td>0</td>\n",
       "      <td>S</td>\n",
       "      <td>1</td>\n",
       "      <td>40</td>\n",
       "      <td>0</td>\n",
       "      <td>0</td>\n",
       "      <td>-</td>\n",
       "      <td>Malicious</td>\n",
       "    </tr>\n",
       "    <tr>\n",
       "      <th>3996</th>\n",
       "      <td>tcp</td>\n",
       "      <td>-</td>\n",
       "      <td>-</td>\n",
       "      <td>-</td>\n",
       "      <td>-</td>\n",
       "      <td>S0</td>\n",
       "      <td>-</td>\n",
       "      <td>-</td>\n",
       "      <td>0</td>\n",
       "      <td>S</td>\n",
       "      <td>1</td>\n",
       "      <td>60</td>\n",
       "      <td>0</td>\n",
       "      <td>0</td>\n",
       "      <td>-</td>\n",
       "      <td>Benign</td>\n",
       "    </tr>\n",
       "    <tr>\n",
       "      <th>3997</th>\n",
       "      <td>tcp</td>\n",
       "      <td>-</td>\n",
       "      <td>-</td>\n",
       "      <td>-</td>\n",
       "      <td>-</td>\n",
       "      <td>S0</td>\n",
       "      <td>-</td>\n",
       "      <td>-</td>\n",
       "      <td>0</td>\n",
       "      <td>S</td>\n",
       "      <td>1</td>\n",
       "      <td>40</td>\n",
       "      <td>0</td>\n",
       "      <td>0</td>\n",
       "      <td>-</td>\n",
       "      <td>Benign</td>\n",
       "    </tr>\n",
       "    <tr>\n",
       "      <th>3998</th>\n",
       "      <td>tcp</td>\n",
       "      <td>-</td>\n",
       "      <td>-</td>\n",
       "      <td>-</td>\n",
       "      <td>-</td>\n",
       "      <td>S0</td>\n",
       "      <td>-</td>\n",
       "      <td>-</td>\n",
       "      <td>0</td>\n",
       "      <td>S</td>\n",
       "      <td>1</td>\n",
       "      <td>40</td>\n",
       "      <td>0</td>\n",
       "      <td>0</td>\n",
       "      <td>-</td>\n",
       "      <td>Benign</td>\n",
       "    </tr>\n",
       "    <tr>\n",
       "      <th>3999</th>\n",
       "      <td>tcp</td>\n",
       "      <td>-</td>\n",
       "      <td>-</td>\n",
       "      <td>-</td>\n",
       "      <td>-</td>\n",
       "      <td>OTH</td>\n",
       "      <td>-</td>\n",
       "      <td>-</td>\n",
       "      <td>0</td>\n",
       "      <td>C</td>\n",
       "      <td>0</td>\n",
       "      <td>0</td>\n",
       "      <td>0</td>\n",
       "      <td>0</td>\n",
       "      <td>-</td>\n",
       "      <td>Malicious</td>\n",
       "    </tr>\n",
       "  </tbody>\n",
       "</table>\n",
       "<p>4000 rows × 16 columns</p>\n",
       "</div>"
      ],
      "text/plain": [
       "     proto service  duration orig_bytes resp_bytes conn_state local_orig  \\\n",
       "0      tcp       -         -          -          -         S0          -   \n",
       "1      tcp       -         -          -          -         S0          -   \n",
       "2      tcp       -  0.000002          0          0         S0          -   \n",
       "3      tcp       -  0.000005          0          0         S0          -   \n",
       "4      tcp       -         -          -          -        OTH          -   \n",
       "...    ...     ...       ...        ...        ...        ...        ...   \n",
       "3995   tcp       -         -          -          -         S0          -   \n",
       "3996   tcp       -         -          -          -         S0          -   \n",
       "3997   tcp       -         -          -          -         S0          -   \n",
       "3998   tcp       -         -          -          -         S0          -   \n",
       "3999   tcp       -         -          -          -        OTH          -   \n",
       "\n",
       "     local_resp  missed_bytes history  orig_pkts  orig_ip_bytes  resp_pkts  \\\n",
       "0             -             0       S          1             40          0   \n",
       "1             -             0       S          1             40          0   \n",
       "2             -             0       S          2             80          0   \n",
       "3             -             0       S          2             80          0   \n",
       "4             -             0       C          0              0          0   \n",
       "...         ...           ...     ...        ...            ...        ...   \n",
       "3995          -             0       S          1             40          0   \n",
       "3996          -             0       S          1             60          0   \n",
       "3997          -             0       S          1             40          0   \n",
       "3998          -             0       S          1             40          0   \n",
       "3999          -             0       C          0              0          0   \n",
       "\n",
       "      resp_ip_bytes tunnel_parents      label  \n",
       "0                 0              -  Malicious  \n",
       "1                 0              -  Malicious  \n",
       "2                 0              -  Malicious  \n",
       "3                 0              -  Malicious  \n",
       "4                 0              -  Malicious  \n",
       "...             ...            ...        ...  \n",
       "3995              0              -  Malicious  \n",
       "3996              0              -     Benign  \n",
       "3997              0              -     Benign  \n",
       "3998              0              -     Benign  \n",
       "3999              0              -  Malicious  \n",
       "\n",
       "[4000 rows x 16 columns]"
      ]
     },
     "execution_count": 14,
     "metadata": {},
     "output_type": "execute_result"
    }
   ],
   "source": [
    "df1"
   ]
  },
  {
   "cell_type": "code",
   "execution_count": 15,
   "id": "2d7d2b03",
   "metadata": {},
   "outputs": [],
   "source": [
    "#df1, df2 = train_test_split(inference_df, test_size=0.6)"
   ]
  },
  {
   "cell_type": "code",
   "execution_count": 16,
   "id": "e6591865",
   "metadata": {},
   "outputs": [],
   "source": [
    "def do_preprocessing(data):\n",
    "    temp = data\n",
    "    temp[[\"duration\",\"orig_bytes\",\"resp_bytes\", \"missed_bytes\",\"local_orig\",\"local_resp\",\n",
    "                    \"orig_pkts\",\"orig_ip_bytes\",\"resp_pkts\",\"resp_ip_bytes\"]] = temp[[\"duration\",\"orig_bytes\",\"resp_bytes\", \"missed_bytes\",\"local_orig\",\"local_resp\",\n",
    "                    \"orig_pkts\",\"orig_ip_bytes\",\"resp_pkts\",\"resp_ip_bytes\"]].applymap(insertnumbers)\n",
    "    \n",
    "    temp['label'] = temp['label'].map(binary_label_converter)\n",
    "    labels = temp.pop('label').values\n",
    "    X_test = F17_preprocessor.transform(temp)\n",
    "    \n",
    "    return X_test, labels"
   ]
  },
  {
   "cell_type": "code",
   "execution_count": null,
   "id": "66022dcb",
   "metadata": {
    "scrolled": true
   },
   "outputs": [],
   "source": [
    "total_time = 0\n",
    "for i in range(30):\n",
    "    df1 = pd.read_csv('./IoT23_Dataset/original/datasets/3_data_v2/S04_R_1_000_IoT0.csv')\n",
    "    df1.drop(columns=['ts', 'uid', 'id.orig_h', 'id.orig_p','id.resp_h','id.resp_p', 'detailed-label'], inplace=True)\n",
    "    start_time = time.time_ns()\n",
    "    X_test, y_test = do_preprocessing(df1)\n",
    "    end_time = time.time_ns()\n",
    "    total_time += (end_time - start_time)/1000000\n",
    "print(total_time/30)"
   ]
  },
  {
   "cell_type": "markdown",
   "id": "bebc23b9",
   "metadata": {},
   "source": [
    "AVG: ~27ms for 4000 rows"
   ]
  },
  {
   "cell_type": "code",
   "execution_count": 18,
   "id": "000f9c58",
   "metadata": {},
   "outputs": [
    {
     "data": {
      "text/plain": [
       "206"
      ]
     },
     "execution_count": 18,
     "metadata": {},
     "output_type": "execute_result"
    }
   ],
   "source": [
    "len(X_test[0])"
   ]
  },
  {
   "cell_type": "code",
   "execution_count": 19,
   "id": "63b179fc",
   "metadata": {
    "scrolled": true
   },
   "outputs": [
    {
     "data": {
      "text/plain": [
       "4000"
      ]
     },
     "execution_count": 19,
     "metadata": {},
     "output_type": "execute_result"
    }
   ],
   "source": [
    "len(X_test)"
   ]
  },
  {
   "cell_type": "code",
   "execution_count": null,
   "id": "138242b6",
   "metadata": {},
   "outputs": [],
   "source": [
    "# ANN\n",
    "#start_time_1 = time.time_ns()\n",
    "#X_test = scaler.fit_transform(inference_df.values)\n",
    "\n",
    "total_time = 0\n",
    "\n",
    "if len(X_test.shape) < 3:\n",
    "    X_test_1D = X_test.reshape(-1, X_test.shape[1], 1)\n",
    "else:\n",
    "    X_test_1D = X_test\n",
    "#end_time_1 = time.time_ns()\n",
    "#print(\"Preprocessing time: \"+str(int((end_time_1 - start_time_1)/1000000))+\"ms\")\n",
    "\n",
    "for i in range(50):\n",
    "    start_time = time.time_ns()\n",
    "    ypred = ANN_model.predict(X_test_1D)\n",
    "    end_time = time.time_ns()\n",
    "    total_time += (end_time - start_time)/1000000\n",
    "\n",
    "avg_time = total_time/50\n",
    "print(\"Average prediction time: \"+str(avg_time)+\"ms\")"
   ]
  },
  {
   "cell_type": "code",
   "execution_count": 26,
   "id": "f1ddbad5",
   "metadata": {},
   "outputs": [
    {
     "name": "stdout",
     "output_type": "stream",
     "text": [
      "0.591\n"
     ]
    }
   ],
   "source": [
    "count = 0\n",
    "for i in range(len(ypred)):\n",
    "    if np.argmax(ypred[i]) == y_test[i]:\n",
    "        count += 1\n",
    "\n",
    "acc = float(count)/len(ypred)\n",
    "print(acc)"
   ]
  },
  {
   "cell_type": "code",
   "execution_count": null,
   "id": "040af279",
   "metadata": {},
   "outputs": [],
   "source": [
    "# CNN 1D\n",
    "total_time = 0\n",
    "\n",
    "if len(X_test.shape) < 3:\n",
    "    X_test_1D = X_test.reshape(-1, X_test.shape[1], 1)\n",
    "else:\n",
    "    X_test_1D = X_test\n",
    "\n",
    "for i in range(50):\n",
    "    start_time = time.time_ns()\n",
    "    ypred = CNN_model.predict(X_test_1D)\n",
    "    end_time = time.time_ns()\n",
    "    total_time += (end_time - start_time)/1000000\n",
    "    \n",
    "avg_time = total_time/50\n",
    "print(\"Average prediction time: \"+str(avg_time)+\"ms\")"
   ]
  },
  {
   "cell_type": "code",
   "execution_count": 30,
   "id": "e6f2d4b5",
   "metadata": {},
   "outputs": [
    {
     "name": "stdout",
     "output_type": "stream",
     "text": [
      "0.595\n"
     ]
    }
   ],
   "source": [
    "count = 0\n",
    "for i in range(len(ypred)):\n",
    "    if np.argmax(ypred[i]) == y_test[i]:\n",
    "        count += 1\n",
    "\n",
    "acc = float(count)/len(ypred)\n",
    "print(acc)"
   ]
  },
  {
   "cell_type": "code",
   "execution_count": 32,
   "id": "62a4af05",
   "metadata": {},
   "outputs": [],
   "source": [
    "X_temp = X_test"
   ]
  },
  {
   "cell_type": "code",
   "execution_count": null,
   "id": "c22634ec",
   "metadata": {},
   "outputs": [],
   "source": [
    "# CNN 2D\n",
    "total_time = 0\n",
    "\n",
    "X_temp_2D, X_test_2D = matrix_to3D(X_temp, X_test)\n",
    "#X_test_CNN2D = X_test_2D.reshape(-1, X_test_2D.shape[1], X_test_2D.shape[2])\n",
    "\n",
    "for i in range(50):\n",
    "    start_time = time.time_ns()\n",
    "    ypred = CNN2D_model.predict(X_test_2D)\n",
    "    end_time = time.time_ns()\n",
    "    total_time += (end_time - start_time)/1000000\n",
    "    \n",
    "avg_time = total_time/50\n",
    "print(\"Average prediction time: \"+str(avg_time)+\"ms\")"
   ]
  },
  {
   "cell_type": "code",
   "execution_count": 34,
   "id": "301b2019",
   "metadata": {},
   "outputs": [
    {
     "name": "stdout",
     "output_type": "stream",
     "text": [
      "0.59575\n"
     ]
    }
   ],
   "source": [
    "count = 0\n",
    "for i in range(len(ypred)):\n",
    "    if np.argmax(ypred[i]) == y_test[i]:\n",
    "        count += 1\n",
    "\n",
    "acc = float(count)/len(ypred)\n",
    "print(acc)"
   ]
  },
  {
   "cell_type": "code",
   "execution_count": null,
   "id": "44dc6656",
   "metadata": {},
   "outputs": [],
   "source": [
    "# LSTM\n",
    "total_time = 0\n",
    "\n",
    "X_temp_2D, X_test_2D = matrix_to3D(X_temp, X_test)\n",
    "X_test_LSTM = X_test_2D.reshape(-1, X_test_2D.shape[1], X_test_2D.shape[2])\n",
    "\n",
    "for i in range(50):\n",
    "    start_time = time.time_ns()\n",
    "    ypred = LSTM_model.predict(X_test_LSTM)\n",
    "    end_time = time.time_ns()\n",
    "    total_time += (end_time - start_time)/1000000\n",
    "\n",
    "avg_time = total_time/50\n",
    "print(\"Average prediction time: \"+str(avg_time)+\"ms\")"
   ]
  },
  {
   "cell_type": "code",
   "execution_count": 39,
   "id": "5d51829b",
   "metadata": {},
   "outputs": [
    {
     "name": "stdout",
     "output_type": "stream",
     "text": [
      "0.75\n"
     ]
    }
   ],
   "source": [
    "count = 0\n",
    "for i in range(len(ypred)):\n",
    "    if np.argmax(ypred[i]) == y_test[i]:\n",
    "        count += 1\n",
    "\n",
    "acc = float(count)/len(ypred)\n",
    "print(acc)"
   ]
  },
  {
   "cell_type": "code",
   "execution_count": null,
   "id": "30d19bde",
   "metadata": {},
   "outputs": [],
   "source": [
    "# CNN+LSTM\n",
    "total_time = 0\n",
    "\n",
    "if len(X_test.shape) < 3:\n",
    "    X_test_1D = X_test.reshape(-1,X_test.shape[1],1)\n",
    "else:\n",
    "    X_test_1D = X_test\n",
    "\n",
    "for i in range(50):\n",
    "    start_time = time.time_ns()\n",
    "    ypred = CNN_LSTM_model.predict(X_test)\n",
    "    end_time = time.time_ns()\n",
    "    total_time += (end_time - start_time)/1000000\n",
    "\n",
    "avg_time = total_time/50\n",
    "print(\"Average prediction time: \"+str(avg_time)+\"ms\")"
   ]
  },
  {
   "cell_type": "code",
   "execution_count": 243,
   "id": "d8276ed9",
   "metadata": {},
   "outputs": [
    {
     "name": "stdout",
     "output_type": "stream",
     "text": [
      "0.47925\n"
     ]
    }
   ],
   "source": [
    "count = 0\n",
    "for i in range(len(ypred)):\n",
    "    if np.argmax(ypred[i]) == y_test[i]:\n",
    "        count += 1\n",
    "\n",
    "acc = float(count)/len(ypred)\n",
    "print(acc)"
   ]
  }
 ],
 "metadata": {
  "kernelspec": {
   "display_name": "Python 3",
   "language": "python",
   "name": "python3"
  },
  "language_info": {
   "codemirror_mode": {
    "name": "ipython",
    "version": 3
   },
   "file_extension": ".py",
   "mimetype": "text/x-python",
   "name": "python",
   "nbconvert_exporter": "python",
   "pygments_lexer": "ipython3",
   "version": "3.10.5"
  }
 },
 "nbformat": 4,
 "nbformat_minor": 5
}
