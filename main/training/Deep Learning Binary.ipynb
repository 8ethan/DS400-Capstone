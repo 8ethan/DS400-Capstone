{
 "cells": [
  {
   "cell_type": "code",
   "execution_count": 1,
   "id": "714fab48",
   "metadata": {},
   "outputs": [],
   "source": [
    "import os"
   ]
  },
  {
   "cell_type": "code",
   "execution_count": 2,
   "id": "fa92311d",
   "metadata": {},
   "outputs": [],
   "source": [
    "os.environ[\"TF_ENABLE_ONEDNN_OPTS\"] = \"1\""
   ]
  },
  {
   "cell_type": "code",
   "execution_count": 3,
   "id": "d5205627",
   "metadata": {},
   "outputs": [],
   "source": [
    "import tensorflow as tf"
   ]
  },
  {
   "cell_type": "code",
   "execution_count": 4,
   "id": "5f8a0215",
   "metadata": {},
   "outputs": [
    {
     "data": {
      "text/plain": [
       "'2.9.1'"
      ]
     },
     "execution_count": 4,
     "metadata": {},
     "output_type": "execute_result"
    }
   ],
   "source": [
    "tf.__version__"
   ]
  },
  {
   "cell_type": "code",
   "execution_count": 5,
   "id": "2bc481e1",
   "metadata": {},
   "outputs": [
    {
     "data": {
      "text/plain": [
       "[PhysicalDevice(name='/physical_device:GPU:0', device_type='GPU')]"
      ]
     },
     "execution_count": 5,
     "metadata": {},
     "output_type": "execute_result"
    }
   ],
   "source": [
    "tf.config.list_physical_devices('GPU')"
   ]
  },
  {
   "cell_type": "code",
   "execution_count": 6,
   "id": "243c6d24",
   "metadata": {},
   "outputs": [],
   "source": [
    "import numpy as np\n",
    "import pandas as pd\n",
    "import tensorflow as tf\n",
    "import pickle\n",
    "from sklearn import preprocessing\n",
    "from sklearn.pipeline import Pipeline\n",
    "from sklearn.model_selection import StratifiedKFold\n",
    "from sklearn.model_selection import train_test_split\n",
    "from sklearn.compose import ColumnTransformer\n",
    "from sklearn.impute import SimpleImputer\n",
    "from sklearn.preprocessing import OneHotEncoder,OrdinalEncoder,StandardScaler,MinMaxScaler,LabelEncoder\n",
    "from tensorflow.keras.utils import plot_model\n",
    "from tensorflow.keras.models import Model\n",
    "from tensorflow.keras.layers import Input, Dense, Dropout, BatchNormalization, Flatten, Conv1D, MaxPooling1D, Conv2D,\\\n",
    "    MaxPooling2D"
   ]
  },
  {
   "cell_type": "code",
   "execution_count": 7,
   "id": "c98d5ccf",
   "metadata": {},
   "outputs": [],
   "source": [
    "from DL_Models import one_hot, ANN, CNN_1D, CNN_2D, LSTM, CNN_LSTM"
   ]
  },
  {
   "cell_type": "code",
   "execution_count": 8,
   "id": "07aaf71c",
   "metadata": {},
   "outputs": [],
   "source": [
    "import dpkt\n",
    "import time"
   ]
  },
  {
   "cell_type": "code",
   "execution_count": 9,
   "id": "49325038",
   "metadata": {},
   "outputs": [],
   "source": [
    "numeric_features = [\"duration\",\"orig_bytes\",\"resp_bytes\", \"missed_bytes\",\"local_orig\",\"local_resp\",\n",
    "                    \"orig_pkts\",\"orig_ip_bytes\",\"resp_pkts\",\"resp_ip_bytes\"]\n",
    "\n",
    "onehotlists = [\"proto\",\"service\",'conn_state','history',\"tunnel_parents\"]"
   ]
  },
  {
   "cell_type": "code",
   "execution_count": 10,
   "id": "85dcaef3",
   "metadata": {},
   "outputs": [],
   "source": [
    "def detailed_label_converter (x):\n",
    "    if x == '-':\n",
    "        return 0\n",
    "    elif  x == \"PartOfAHorizontalPortScan\":\n",
    "        return 1\n",
    "    elif x == \"DDoS\":\n",
    "        return 2\n",
    "    else:\n",
    "        return 3\n",
    "    \n",
    "def binary_label_converter (x):\n",
    "    if str(x).lower() == 'benign':\n",
    "        return 0\n",
    "    else:\n",
    "        return 1\n",
    "    \n",
    "def insertnumbers (x):\n",
    "    if ((x == '-') | (x == '(empty)')):\n",
    "        return 99\n",
    "    else:\n",
    "        return x"
   ]
  },
  {
   "cell_type": "code",
   "execution_count": 11,
   "id": "39d75233",
   "metadata": {},
   "outputs": [],
   "source": [
    "def matrix_to3D(X_train, X_test):\n",
    "    dim1 = X_train.shape[1]\n",
    "    divs = [i for i in range(1,dim1+1) if (dim1%i == 0)]\n",
    "    if len(divs) == 2: # i.e. prime number\n",
    "        # Add zeros column\n",
    "        X_train = np.concatenate((X_train, np.zeros((X_train.shape[0],1))), axis=1)\n",
    "        X_test = np.concatenate((X_test, np.zeros((X_test.shape[0],1))), axis=1)\n",
    "        dim1 = X_train.shape[1]\n",
    "        divs = [i for i in range(1,dim1+1) if (dim1%i == 0)]        \n",
    "    mid_idx = len(divs)//2\n",
    "\n",
    "    return X_train.reshape(-1, divs[mid_idx], int(dim1/divs[mid_idx]), 1), X_test.reshape(-1, divs[mid_idx], int(dim1/divs[mid_idx]), 1)"
   ]
  },
  {
   "cell_type": "code",
   "execution_count": null,
   "id": "db73e1f5",
   "metadata": {},
   "outputs": [],
   "source": [
    "# Read in csv data\n",
    "total_df = pd.read_csv(\"./IoT23_Dataset/original/datasets/3_data_v2/S04_R_5_000_000.csv\")\n",
    "#train_df = pd.read_csv(\"./IoT23_Dataset/original/datasets/3_data_v2/S04_R_5_000_000_clean.csv_train.csv\")\n",
    "#test_df = pd.read_csv(\"./IoT23_Dataset/original/datasets/3_data_v2/S04_R_5_000_000_clean.csv_test.csv\")"
   ]
  },
  {
   "cell_type": "code",
   "execution_count": 13,
   "id": "46506e42",
   "metadata": {},
   "outputs": [],
   "source": [
    "total_df.drop(columns=['ts', 'uid', 'id.orig_h', 'id.orig_p','id.resp_h','id.resp_p', 'detailed-label'], inplace=True)\n",
    "#train_df.drop(columns=['id.orig_h', 'id.orig_p','id.resp_h','id.resp_p'], inplace=True)\n",
    "#test_df.drop(columns=['id.orig_h', 'id.orig_p','id.resp_h','id.resp_p'], inplace=True)"
   ]
  },
  {
   "cell_type": "code",
   "execution_count": 14,
   "id": "b678c59d",
   "metadata": {},
   "outputs": [],
   "source": [
    "total_df_1, total_df_2 = train_test_split(total_df, test_size=0.6)"
   ]
  },
  {
   "cell_type": "code",
   "execution_count": 15,
   "id": "415cd250",
   "metadata": {},
   "outputs": [],
   "source": [
    "total_df_1[[\"duration\",\"orig_bytes\",\"resp_bytes\", \"missed_bytes\",\"local_orig\",\"local_resp\",\n",
    "                    \"orig_pkts\",\"orig_ip_bytes\",\"resp_pkts\",\"resp_ip_bytes\"]] = total_df_1[[\"duration\",\"orig_bytes\",\"resp_bytes\", \"missed_bytes\",\"local_orig\",\"local_resp\",\n",
    "                    \"orig_pkts\",\"orig_ip_bytes\",\"resp_pkts\",\"resp_ip_bytes\"]].applymap(insertnumbers)"
   ]
  },
  {
   "cell_type": "code",
   "execution_count": 16,
   "id": "219343d1",
   "metadata": {},
   "outputs": [],
   "source": [
    "numeric_transformer = Pipeline(steps=[('scaler', StandardScaler())])\n",
    "\n",
    "categorical_transformer2 = Pipeline(steps=[('onehotencoder', OneHotEncoder(sparse = False,handle_unknown='ignore',drop = 'first'))])"
   ]
  },
  {
   "cell_type": "code",
   "execution_count": 17,
   "id": "b64a483f",
   "metadata": {},
   "outputs": [],
   "source": [
    "F17_preprocessor = ColumnTransformer(\n",
    "    transformers=[\n",
    "        ('num', numeric_transformer, numeric_features),\n",
    "        #('cat1', categorical_transformer1,['id.orig_h','id.resp_h']),\n",
    "        ('cat2', categorical_transformer2, onehotlists)],remainder = \"drop\",verbose_feature_names_out=True)"
   ]
  },
  {
   "cell_type": "code",
   "execution_count": 18,
   "id": "4082e1b7",
   "metadata": {},
   "outputs": [],
   "source": [
    "total_df_1['label'] = total_df_1['label'].map(binary_label_converter)"
   ]
  },
  {
   "cell_type": "code",
   "execution_count": 19,
   "id": "692932c3",
   "metadata": {},
   "outputs": [],
   "source": [
    "labels = total_df_1.pop('label')"
   ]
  },
  {
   "cell_type": "code",
   "execution_count": 20,
   "id": "322ea8e7",
   "metadata": {},
   "outputs": [],
   "source": [
    "labels = labels.values"
   ]
  },
  {
   "cell_type": "code",
   "execution_count": null,
   "id": "4d5d0344",
   "metadata": {},
   "outputs": [],
   "source": [
    "F17_preprocessor.fit(total_df_1)"
   ]
  },
  {
   "cell_type": "code",
   "execution_count": 22,
   "id": "27504216",
   "metadata": {},
   "outputs": [],
   "source": [
    "filename = \"f17_pipeline.pkl\"\n",
    "file = open(filename, 'wb')\n",
    "pickle.dump(F17_preprocessor, file)\n",
    "file.close()"
   ]
  },
  {
   "cell_type": "code",
   "execution_count": 23,
   "id": "8a26ccd4",
   "metadata": {},
   "outputs": [],
   "source": [
    "total_df_1 = F17_preprocessor.transform(total_df_1)"
   ]
  },
  {
   "cell_type": "code",
   "execution_count": 24,
   "id": "5f844ffa",
   "metadata": {},
   "outputs": [
    {
     "data": {
      "text/plain": [
       "206"
      ]
     },
     "execution_count": 24,
     "metadata": {},
     "output_type": "execute_result"
    }
   ],
   "source": [
    "len(total_df_1[0])"
   ]
  },
  {
   "cell_type": "code",
   "execution_count": 25,
   "id": "10e126f1",
   "metadata": {},
   "outputs": [],
   "source": [
    "train_df, X_test = train_test_split(total_df_1, test_size=0.2, shuffle=False)"
   ]
  },
  {
   "cell_type": "code",
   "execution_count": 26,
   "id": "c16760f6",
   "metadata": {},
   "outputs": [
    {
     "data": {
      "text/plain": [
       "6400000"
      ]
     },
     "execution_count": 26,
     "metadata": {},
     "output_type": "execute_result"
    }
   ],
   "source": [
    "len(train_df)"
   ]
  },
  {
   "cell_type": "code",
   "execution_count": 28,
   "id": "8dae1f82",
   "metadata": {},
   "outputs": [
    {
     "data": {
      "text/plain": [
       "1600000"
      ]
     },
     "execution_count": 28,
     "metadata": {},
     "output_type": "execute_result"
    }
   ],
   "source": [
    "len(X_test)"
   ]
  },
  {
   "cell_type": "code",
   "execution_count": 18,
   "id": "6de5cf16",
   "metadata": {},
   "outputs": [],
   "source": [
    "#train_df['label'] = train_df['label'].map(binary_label_converter)"
   ]
  },
  {
   "cell_type": "code",
   "execution_count": 19,
   "id": "5d2e260b",
   "metadata": {},
   "outputs": [],
   "source": [
    "#test_df['label'] = test_df['label'].map(binary_label_converter)"
   ]
  },
  {
   "cell_type": "code",
   "execution_count": 20,
   "id": "de29604d",
   "metadata": {},
   "outputs": [
    {
     "data": {
      "text/plain": [
       "array([0, 1], dtype=int64)"
      ]
     },
     "execution_count": 20,
     "metadata": {},
     "output_type": "execute_result"
    }
   ],
   "source": [
    "#train_df['label'].unique()"
   ]
  },
  {
   "cell_type": "code",
   "execution_count": 21,
   "id": "7cd1548c",
   "metadata": {},
   "outputs": [
    {
     "data": {
      "text/plain": [
       "array([0, 1], dtype=int64)"
      ]
     },
     "execution_count": 21,
     "metadata": {},
     "output_type": "execute_result"
    }
   ],
   "source": [
    "#train_df['label'].unique()"
   ]
  },
  {
   "cell_type": "code",
   "execution_count": 29,
   "id": "2bbbcfac",
   "metadata": {},
   "outputs": [],
   "source": [
    "# Split train_df into training and validation sets (80/20)\n",
    "X_train_orig, X_validation = train_test_split(train_df, test_size=0.2,shuffle=False)"
   ]
  },
  {
   "cell_type": "code",
   "execution_count": 30,
   "id": "73b7ed99",
   "metadata": {},
   "outputs": [],
   "source": [
    "X_train, X_train_2 = train_test_split(X_train_orig, test_size=0.2, shuffle=False)"
   ]
  },
  {
   "cell_type": "code",
   "execution_count": 34,
   "id": "90d16c94",
   "metadata": {},
   "outputs": [],
   "source": [
    "y_train = labels[0:4096000]\n",
    "y_test = labels[6400000:8000000]\n",
    "y_validation = labels[5120000:6400000]"
   ]
  },
  {
   "cell_type": "code",
   "execution_count": 35,
   "id": "86b80993",
   "metadata": {},
   "outputs": [],
   "source": [
    "# All model parameters\n",
    "learning_rate = 1e-3\n",
    "decay_rate = 1e-5\n",
    "dropout_rate = 0.5\n",
    "n_batch = 100\n",
    "n_epochs = 1  # Loop 1000 times on the dataset\n",
    "filters = 128\n",
    "kernel_size = 4\n",
    "strides = 1\n",
    "CNN_layers = 2\n",
    "clf_reg = 1e-5\n",
    "save_dir_k = './ANN_model'"
   ]
  },
  {
   "cell_type": "code",
   "execution_count": 37,
   "id": "1798452d",
   "metadata": {},
   "outputs": [
    {
     "name": "stdout",
     "output_type": "stream",
     "text": [
      "[0 1]\n",
      "[0 1]\n",
      "[0 1]\n"
     ]
    }
   ],
   "source": [
    "print(np.unique(y_train))\n",
    "print(np.unique(y_test))\n",
    "print(np.unique(y_validation))"
   ]
  },
  {
   "cell_type": "code",
   "execution_count": 38,
   "id": "f9360f5e",
   "metadata": {},
   "outputs": [
    {
     "data": {
      "text/plain": [
       "(1600000, 206)"
      ]
     },
     "execution_count": 38,
     "metadata": {},
     "output_type": "execute_result"
    }
   ],
   "source": [
    "np.shape(X_test)"
   ]
  },
  {
   "cell_type": "code",
   "execution_count": 39,
   "id": "224ab942",
   "metadata": {},
   "outputs": [
    {
     "data": {
      "text/plain": [
       "(1280000, 206)"
      ]
     },
     "execution_count": 39,
     "metadata": {},
     "output_type": "execute_result"
    }
   ],
   "source": [
    "np.shape(X_validation)"
   ]
  },
  {
   "cell_type": "code",
   "execution_count": 40,
   "id": "4143b34e",
   "metadata": {},
   "outputs": [
    {
     "data": {
      "text/plain": [
       "(4096000, 206)"
      ]
     },
     "execution_count": 40,
     "metadata": {},
     "output_type": "execute_result"
    }
   ],
   "source": [
    "np.shape(X_train)"
   ]
  },
  {
   "cell_type": "markdown",
   "id": "5a9eea4a",
   "metadata": {},
   "source": [
    "# ANN"
   ]
  },
  {
   "cell_type": "code",
   "execution_count": 41,
   "id": "c3fe1784",
   "metadata": {},
   "outputs": [],
   "source": [
    "# FOR ANN\n",
    "X_train_ANN = X_train.reshape(-1, X_train.shape[1], 1)\n",
    "X_validation_ANN = X_validation.reshape(-1, X_train.shape[1], 1)\n",
    "X_test_ANN = X_test.reshape(-1, X_test.shape[1], 1)"
   ]
  },
  {
   "cell_type": "code",
   "execution_count": 42,
   "id": "a66ea975",
   "metadata": {},
   "outputs": [],
   "source": [
    "model = ANN(input_shape=(X_train_ANN.shape[1],1,), n_classes=2)"
   ]
  },
  {
   "cell_type": "code",
   "execution_count": null,
   "id": "3ffebe3d",
   "metadata": {},
   "outputs": [],
   "source": [
    "history=model.train(X_train_ANN, y_train, X_validation_ANN, y_validation,\n",
    "                                n_batch, \n",
    "                                n_epochs,\n",
    "                                learning_rate,\n",
    "                                decay_rate,\n",
    "                                save_dir_k)"
   ]
  },
  {
   "cell_type": "code",
   "execution_count": 44,
   "id": "c697e111",
   "metadata": {},
   "outputs": [
    {
     "name": "stdout",
     "output_type": "stream",
     "text": [
      "[0.9962910413742065]\n",
      "[0.9969648718833923]\n"
     ]
    }
   ],
   "source": [
    "print(history.history['accuracy'])\n",
    "print(history.history['val_accuracy'])"
   ]
  },
  {
   "cell_type": "code",
   "execution_count": null,
   "id": "0a82f8c1",
   "metadata": {},
   "outputs": [],
   "source": [
    "ypred = model.classify(X_test)"
   ]
  },
  {
   "cell_type": "code",
   "execution_count": 46,
   "id": "0a70da34",
   "metadata": {},
   "outputs": [],
   "source": [
    "count = 0\n",
    "for i in range(len(ypred)):\n",
    "    if np.argmax(ypred[i]) == y_test[i]:\n",
    "        count += 1\n",
    "\n",
    "acc = float(count)/len(ypred)"
   ]
  },
  {
   "cell_type": "code",
   "execution_count": 47,
   "id": "d523481a",
   "metadata": {},
   "outputs": [
    {
     "name": "stdout",
     "output_type": "stream",
     "text": [
      "0.99706375\n"
     ]
    }
   ],
   "source": [
    "print(acc)"
   ]
  },
  {
   "cell_type": "code",
   "execution_count": 48,
   "id": "6f145107",
   "metadata": {},
   "outputs": [
    {
     "name": "stdout",
     "output_type": "stream",
     "text": [
      "INFO:tensorflow:Assets written to: ANN_Binary_3\\assets\n"
     ]
    }
   ],
   "source": [
    "model.model.save('ANN_Binary_3')"
   ]
  },
  {
   "cell_type": "markdown",
   "id": "e1ef6a8a",
   "metadata": {},
   "source": [
    "# CNN 1D"
   ]
  },
  {
   "cell_type": "code",
   "execution_count": 49,
   "id": "e32472bb",
   "metadata": {},
   "outputs": [
    {
     "name": "stdout",
     "output_type": "stream",
     "text": [
      "INPUT SHAPE: (206, 1)\n"
     ]
    }
   ],
   "source": [
    "model2 = CNN_1D(input_shape=(X_train.shape[1],1,), \n",
    "                    n_classes=2,\n",
    "                    filters=filters,\n",
    "                    kernel_size=kernel_size,\n",
    "                    strides=strides,\n",
    "                    dense_units=128,\n",
    "                    dropout_rate=dropout_rate,\n",
    "                    CNN_layers=CNN_layers,\n",
    "                    clf_reg=clf_reg)"
   ]
  },
  {
   "cell_type": "code",
   "execution_count": null,
   "id": "493cfc5a",
   "metadata": {},
   "outputs": [],
   "source": [
    "save_dir_k = './CNN_model'\n",
    "history2 = model2.train(X_train, y_train, X_validation, y_validation,\n",
    "                                n_batch, \n",
    "                                n_epochs,\n",
    "                                learning_rate,\n",
    "                                decay_rate,\n",
    "                                save_dir_k)"
   ]
  },
  {
   "cell_type": "code",
   "execution_count": 51,
   "id": "755b7e86",
   "metadata": {},
   "outputs": [
    {
     "name": "stdout",
     "output_type": "stream",
     "text": [
      "[0.9958486557006836]\n",
      "[0.9975000023841858]\n"
     ]
    }
   ],
   "source": [
    "print(history2.history['accuracy'])\n",
    "print(history2.history['val_accuracy'])"
   ]
  },
  {
   "cell_type": "code",
   "execution_count": 52,
   "id": "98428a86",
   "metadata": {},
   "outputs": [
    {
     "name": "stdout",
     "output_type": "stream",
     "text": [
      "50000/50000 [==============================] - 90s 2ms/step\n"
     ]
    }
   ],
   "source": [
    "ypred = model2.classify(X_test)"
   ]
  },
  {
   "cell_type": "code",
   "execution_count": 53,
   "id": "71c05ba5",
   "metadata": {},
   "outputs": [
    {
     "data": {
      "text/plain": [
       "array([1.6754926e-05, 9.9998319e-01], dtype=float32)"
      ]
     },
     "execution_count": 53,
     "metadata": {},
     "output_type": "execute_result"
    }
   ],
   "source": [
    "ypred[0]"
   ]
  },
  {
   "cell_type": "code",
   "execution_count": 54,
   "id": "d6162197",
   "metadata": {},
   "outputs": [
    {
     "name": "stdout",
     "output_type": "stream",
     "text": [
      "0.9976125\n"
     ]
    }
   ],
   "source": [
    "count = 0\n",
    "for i in range(len(ypred)):\n",
    "    if np.argmax(ypred[i]) == y_test[i]:\n",
    "        count += 1\n",
    "\n",
    "acc = float(count)/len(ypred)\n",
    "print(acc)"
   ]
  },
  {
   "cell_type": "code",
   "execution_count": null,
   "id": "94880499",
   "metadata": {
    "scrolled": true
   },
   "outputs": [],
   "source": [
    "model2.model.save('./CNN_Binary_3')"
   ]
  },
  {
   "cell_type": "markdown",
   "id": "63a8c85a",
   "metadata": {},
   "source": [
    "# CNN 2D"
   ]
  },
  {
   "cell_type": "code",
   "execution_count": 56,
   "id": "7d8e59c6",
   "metadata": {
    "scrolled": true
   },
   "outputs": [],
   "source": [
    "X_train_2D, X_test_2D = matrix_to3D(X_train, X_test)"
   ]
  },
  {
   "cell_type": "code",
   "execution_count": 57,
   "id": "9283f0ff",
   "metadata": {},
   "outputs": [],
   "source": [
    "X_train_2D, X_validation_2D = matrix_to3D(X_train, X_validation)"
   ]
  },
  {
   "cell_type": "code",
   "execution_count": 58,
   "id": "01f1ee96",
   "metadata": {},
   "outputs": [],
   "source": [
    "model3 = CNN_2D(input_shape=(X_train_2D.shape[1],X_train_2D.shape[2],1),\n",
    "        n_classes=2,\n",
    "        filters=filters,\n",
    "        kernel_size=kernel_size,\n",
    "        strides=strides,\n",
    "        dense_units=128,\n",
    "        dropout_rate=dropout_rate,\n",
    "        CNN_layers=CNN_layers,\n",
    "        clf_reg=clf_reg)"
   ]
  },
  {
   "cell_type": "code",
   "execution_count": null,
   "id": "ad62f479",
   "metadata": {},
   "outputs": [],
   "source": [
    "history3 = model3.train(X_train_2D, y_train, X_validation_2D, y_validation,\n",
    "                                n_batch, \n",
    "                                n_epochs,\n",
    "                                learning_rate,\n",
    "                                decay_rate,\n",
    "                                save_dir_k)"
   ]
  },
  {
   "cell_type": "code",
   "execution_count": 60,
   "id": "29488008",
   "metadata": {},
   "outputs": [
    {
     "name": "stdout",
     "output_type": "stream",
     "text": [
      "[0.996063232421875]\n",
      "[0.9976351857185364]\n"
     ]
    }
   ],
   "source": [
    "print(history3.history['accuracy'])\n",
    "print(history3.history['val_accuracy'])"
   ]
  },
  {
   "cell_type": "code",
   "execution_count": 61,
   "id": "62076089",
   "metadata": {},
   "outputs": [
    {
     "name": "stdout",
     "output_type": "stream",
     "text": [
      "50000/50000 [==============================] - 77s 2ms/step\n"
     ]
    }
   ],
   "source": [
    "ypred = model3.classify(X_test_2D)"
   ]
  },
  {
   "cell_type": "code",
   "execution_count": 62,
   "id": "054d9373",
   "metadata": {},
   "outputs": [
    {
     "name": "stdout",
     "output_type": "stream",
     "text": [
      "0.997708125\n"
     ]
    }
   ],
   "source": [
    "count = 0\n",
    "for i in range(len(ypred)):\n",
    "    if np.argmax(ypred[i]) == y_test[i]:\n",
    "        count += 1\n",
    "\n",
    "acc = float(count)/len(ypred)\n",
    "print(acc)"
   ]
  },
  {
   "cell_type": "code",
   "execution_count": null,
   "id": "5adacd91",
   "metadata": {},
   "outputs": [],
   "source": [
    "model3.model.save('./CNN2D_Binary_3')"
   ]
  },
  {
   "cell_type": "markdown",
   "id": "1ad3a97b",
   "metadata": {},
   "source": [
    "# LSTM"
   ]
  },
  {
   "cell_type": "code",
   "execution_count": null,
   "id": "02b2bc47",
   "metadata": {},
   "outputs": [],
   "source": [
    "X_train_2D, X_test_2D = matrix_to3D(X_train, X_test)\n",
    "X_train_2D, X_validation_2D = matrix_to3D(X_train, X_validation)"
   ]
  },
  {
   "cell_type": "code",
   "execution_count": 64,
   "id": "f8298d01",
   "metadata": {},
   "outputs": [],
   "source": [
    "X_train_LSTM = X_train_2D.reshape(-1, X_train_2D.shape[1], X_train_2D.shape[2])\n",
    "X_validation_LSTM = X_validation_2D.reshape(-1, X_validation_2D.shape[1], X_validation_2D.shape[2])\n",
    "X_test_LSTM = X_test_2D.reshape(-1, X_test_2D.shape[1], X_test_2D.shape[2])"
   ]
  },
  {
   "cell_type": "code",
   "execution_count": 65,
   "id": "2f18dcff",
   "metadata": {},
   "outputs": [],
   "source": [
    "model4 = LSTM(input_shape=(X_train_LSTM.shape[1],X_train_LSTM.shape[2]), \n",
    "        n_classes=2,\n",
    "        dense_units=128,\n",
    "        dropout_rate=dropout_rate,\n",
    "        LSTM_layers=2,\n",
    "        LSTM_units=128,\n",
    "        lstm_reg=1e-4,\n",
    "        clf_reg=clf_reg)"
   ]
  },
  {
   "cell_type": "code",
   "execution_count": null,
   "id": "b97ab1d3",
   "metadata": {},
   "outputs": [],
   "source": [
    "history4=model4.train(X_train_LSTM, y_train, X_validation_LSTM, y_validation,\n",
    "                                n_batch, \n",
    "                                n_epochs,\n",
    "                                learning_rate,\n",
    "                                decay_rate,\n",
    "                                save_dir_k)"
   ]
  },
  {
   "cell_type": "code",
   "execution_count": 67,
   "id": "bcb2d126",
   "metadata": {},
   "outputs": [
    {
     "name": "stdout",
     "output_type": "stream",
     "text": [
      "[0.7499873042106628]\n",
      "[0.7501156330108643]\n"
     ]
    }
   ],
   "source": [
    "print(history4.history['accuracy'])\n",
    "print(history4.history['val_accuracy'])"
   ]
  },
  {
   "cell_type": "code",
   "execution_count": 68,
   "id": "b1b3441e",
   "metadata": {},
   "outputs": [
    {
     "name": "stdout",
     "output_type": "stream",
     "text": [
      "50000/50000 [==============================] - 289s 6ms/step\n"
     ]
    }
   ],
   "source": [
    "ypred = model4.classify(X_test_LSTM)"
   ]
  },
  {
   "cell_type": "code",
   "execution_count": 69,
   "id": "e55b9d3b",
   "metadata": {},
   "outputs": [
    {
     "name": "stdout",
     "output_type": "stream",
     "text": [
      "0.75023125\n"
     ]
    }
   ],
   "source": [
    "count = 0\n",
    "for i in range(len(ypred)):\n",
    "    if np.argmax(ypred[i]) == y_test[i]:\n",
    "        count += 1\n",
    "\n",
    "acc = float(count)/len(ypred)\n",
    "print(acc)"
   ]
  },
  {
   "cell_type": "code",
   "execution_count": null,
   "id": "40b52c1b",
   "metadata": {},
   "outputs": [],
   "source": [
    "model4.model.save('./LSTM_Binary_3')"
   ]
  },
  {
   "cell_type": "markdown",
   "id": "6226cb09",
   "metadata": {},
   "source": [
    "# CNN + LSTM"
   ]
  },
  {
   "cell_type": "code",
   "execution_count": 71,
   "id": "1485f3e2",
   "metadata": {},
   "outputs": [],
   "source": [
    "model5 = CNN_LSTM(input_shape=(X_train.shape[1],1,), \n",
    "                    n_classes=2,\n",
    "                    dropout_rate=dropout_rate,\n",
    "                    lstm_reg=1e-4,\n",
    "                    clf_reg=clf_reg)"
   ]
  },
  {
   "cell_type": "code",
   "execution_count": null,
   "id": "ff3b473a",
   "metadata": {},
   "outputs": [],
   "source": [
    "history5 = model5.train(X_train, y_train, X_validation, y_validation,\n",
    "                                n_batch, \n",
    "                                n_epochs,\n",
    "                                learning_rate,\n",
    "                                decay_rate,\n",
    "                                save_dir_k)"
   ]
  },
  {
   "cell_type": "code",
   "execution_count": 73,
   "id": "5c892028",
   "metadata": {},
   "outputs": [
    {
     "name": "stdout",
     "output_type": "stream",
     "text": [
      "[0.749539315700531]\n",
      "[0.7501156330108643]\n"
     ]
    }
   ],
   "source": [
    "print(history5.history['accuracy'])\n",
    "print(history5.history['val_accuracy'])"
   ]
  },
  {
   "cell_type": "code",
   "execution_count": 74,
   "id": "d486633b",
   "metadata": {},
   "outputs": [
    {
     "name": "stdout",
     "output_type": "stream",
     "text": [
      "50000/50000 [==============================] - 165s 3ms/step\n"
     ]
    }
   ],
   "source": [
    "ypred = model5.classify(X_test)"
   ]
  },
  {
   "cell_type": "code",
   "execution_count": 75,
   "id": "b4233a29",
   "metadata": {},
   "outputs": [
    {
     "name": "stdout",
     "output_type": "stream",
     "text": [
      "0.75023125\n"
     ]
    }
   ],
   "source": [
    "count = 0\n",
    "for i in range(len(ypred)):\n",
    "    if np.argmax(ypred[i]) == y_test[i]:\n",
    "        count += 1\n",
    "\n",
    "acc = float(count)/len(ypred)\n",
    "print(acc)"
   ]
  },
  {
   "cell_type": "code",
   "execution_count": null,
   "id": "c41125e3",
   "metadata": {},
   "outputs": [],
   "source": [
    "model5.model.save('./CNN_LSTM_Binary_3')"
   ]
  },
  {
   "cell_type": "markdown",
   "id": "32b1a5d2",
   "metadata": {},
   "source": [
    "## Binary Classification Accuracies"
   ]
  },
  {
   "cell_type": "markdown",
   "id": "a4898f19",
   "metadata": {},
   "source": [
    "Without Custom Preprocessing:\n",
    "\n",
    "ANN: 90.409%\n",
    "CNN_1D: 85.128%\n",
    "CNN_2D: 95.214%\n",
    "LSTM: 99.738%\n",
    "LSTM+CNN: 99.712%"
   ]
  },
  {
   "cell_type": "markdown",
   "id": "9afc535e",
   "metadata": {},
   "source": [
    "With Custom Preprocessing:\n",
    "\n",
    "ANN: 99.706%\n",
    "CNN: 99.761%\n",
    "CNN_2D: 99.771%\n",
    "LSTM: 75.023%\n",
    "CNN+LSTM: 75.023%"
   ]
  },
  {
   "cell_type": "code",
   "execution_count": null,
   "id": "f1f290f4",
   "metadata": {},
   "outputs": [],
   "source": []
  }
 ],
 "metadata": {
  "kernelspec": {
   "display_name": "Python 3",
   "language": "python",
   "name": "python3"
  },
  "language_info": {
   "codemirror_mode": {
    "name": "ipython",
    "version": 3
   },
   "file_extension": ".py",
   "mimetype": "text/x-python",
   "name": "python",
   "nbconvert_exporter": "python",
   "pygments_lexer": "ipython3",
   "version": "3.10.5"
  }
 },
 "nbformat": 4,
 "nbformat_minor": 5
}
