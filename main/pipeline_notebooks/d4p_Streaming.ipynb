{
 "cells": [
  {
   "cell_type": "code",
   "execution_count": 1,
   "id": "1b9c0519",
   "metadata": {},
   "outputs": [],
   "source": [
    "import findspark\n",
    "findspark.init('/opt/spark')"
   ]
  },
  {
   "cell_type": "code",
   "execution_count": 2,
   "id": "e16dd351",
   "metadata": {
    "collapsed": true
   },
   "outputs": [
    {
     "name": "stderr",
     "output_type": "stream",
     "text": [
      "22/06/23 22:51:17 WARN Utils: Your hostname, GPUServer resolves to a loopback address: 127.0.1.1; using 10.4.10.8 instead (on interface enp2s0)\n",
      "22/06/23 22:51:17 WARN Utils: Set SPARK_LOCAL_IP if you need to bind to another address\n",
      "WARNING: An illegal reflective access operation has occurred\n",
      "WARNING: Illegal reflective access by org.apache.spark.unsafe.Platform (file:/opt/spark-3.0.1/jars/spark-unsafe_2.12-3.0.1.jar) to constructor java.nio.DirectByteBuffer(long,int)\n",
      "WARNING: Please consider reporting this to the maintainers of org.apache.spark.unsafe.Platform\n",
      "WARNING: Use --illegal-access=warn to enable warnings of further illegal reflective access operations\n",
      "WARNING: All illegal access operations will be denied in a future release\n",
      "Ivy Default Cache set to: /home/weitkampe/.ivy2/cache\n",
      "The jars for the packages stored in: /home/weitkampe/.ivy2/jars\n",
      ":: loading settings :: url = jar:file:/opt/spark-3.0.1/jars/ivy-2.4.0.jar!/org/apache/ivy/core/settings/ivysettings.xml\n",
      "org.apache.kafka#kafka-clients added as a dependency\n",
      ":: resolving dependencies :: org.apache.spark#spark-submit-parent-61e4fa83-3e5a-4076-b8fc-0df02c8a41bf;1.0\n",
      "\tconfs: [default]\n",
      "\tfound org.apache.kafka#kafka-clients;2.4.1 in central\n",
      "\tfound com.github.luben#zstd-jni;1.4.3-1 in central\n",
      "\tfound org.lz4#lz4-java;1.6.0 in central\n",
      "\tfound org.xerial.snappy#snappy-java;1.1.7.3 in central\n",
      "\tfound org.slf4j#slf4j-api;1.7.28 in central\n",
      ":: resolution report :: resolve 116ms :: artifacts dl 3ms\n",
      "\t:: modules in use:\n",
      "\tcom.github.luben#zstd-jni;1.4.3-1 from central in [default]\n",
      "\torg.apache.kafka#kafka-clients;2.4.1 from central in [default]\n",
      "\torg.lz4#lz4-java;1.6.0 from central in [default]\n",
      "\torg.slf4j#slf4j-api;1.7.28 from central in [default]\n",
      "\torg.xerial.snappy#snappy-java;1.1.7.3 from central in [default]\n",
      "\t---------------------------------------------------------------------\n",
      "\t|                  |            modules            ||   artifacts   |\n",
      "\t|       conf       | number| search|dwnlded|evicted|| number|dwnlded|\n",
      "\t---------------------------------------------------------------------\n",
      "\t|      default     |   5   |   0   |   0   |   0   ||   5   |   0   |\n",
      "\t---------------------------------------------------------------------\n",
      ":: retrieving :: org.apache.spark#spark-submit-parent-61e4fa83-3e5a-4076-b8fc-0df02c8a41bf\n",
      "\tconfs: [default]\n",
      "\t0 artifacts copied, 5 already retrieved (0kB/3ms)\n",
      "22/06/23 22:51:18 WARN NativeCodeLoader: Unable to load native-hadoop library for your platform... using builtin-java classes where applicable\n",
      "Using Spark's default log4j profile: org/apache/spark/log4j-defaults.properties\n",
      "Setting default log level to \"WARN\".\n",
      "To adjust logging level use sc.setLogLevel(newLevel). For SparkR, use setLogLevel(newLevel).\n",
      "22/06/23 22:51:19 WARN Utils: Service 'SparkUI' could not bind on port 4040. Attempting port 4041.\n"
     ]
    }
   ],
   "source": [
    "from pyspark.sql import SparkSession\n",
    "\n",
    "spark = SparkSession.builder.appName('SCARP_Kafka_Test')\\\n",
    "                    .config('spark.jars.packages','org.apache.spark:spark-sql-kafka-0-10_2.12:3.0.1')\\\n",
    "                    .config('spark.jars.packages','org.apache.kafka:kafka-clients:2.4.1')\\\n",
    "                    .config(\"spark.driver.memory\", \"24g\")\\\n",
    "                    .config(\"spark.executor.memory\", \"8g\")\\\n",
    "                    .getOrCreate()"
   ]
  },
  {
   "cell_type": "code",
   "execution_count": 3,
   "id": "af2fbb97",
   "metadata": {},
   "outputs": [],
   "source": [
    "df = spark.readStream.format(\"kafka\")\\\n",
    "    .option(\"kafka.bootstrap.servers\", \"localhost:9092\")\\\n",
    "    .option(\"subscribe\", \"d4p_stream\")\\\n",
    "    .option('includeTimestamp', 'true')\\\n",
    "    .load()"
   ]
  },
  {
   "cell_type": "code",
   "execution_count": 4,
   "id": "a696a412",
   "metadata": {},
   "outputs": [],
   "source": [
    "data_df = df.select(['value','timestamp'])"
   ]
  },
  {
   "cell_type": "code",
   "execution_count": 5,
   "id": "dfdc5135",
   "metadata": {},
   "outputs": [
    {
     "name": "stderr",
     "output_type": "stream",
     "text": [
      "22/06/23 22:51:20 WARN StreamingQueryManager: Temporary checkpoint location created which is deleted normally when the query didn't fail: /tmp/temporary-f5a696bc-da76-4829-867b-07c485f8db38. If it's required to delete it under any circumstances, please set spark.sql.streaming.forceDeleteTempCheckpointLocation to true. Important to know deleting temp checkpoint folder is best effort.\n"
     ]
    }
   ],
   "source": [
    "query = data_df.writeStream\\\n",
    "        .format('memory')\\\n",
    "        .queryName('d4p_stream')\\\n",
    "        .start()"
   ]
  },
  {
   "cell_type": "code",
   "execution_count": 6,
   "id": "e38f4824",
   "metadata": {},
   "outputs": [],
   "source": [
    "spark.sparkContext.setLogLevel(\"ERROR\")"
   ]
  },
  {
   "cell_type": "code",
   "execution_count": 14,
   "id": "2fc29141",
   "metadata": {},
   "outputs": [],
   "source": [
    "import numpy as np\n",
    "import ember_modified\n",
    "from ember_modified.features import PEFeatureExtractor\n",
    "import time\n",
    "from IPython.display import clear_output\n",
    "import pickle\n",
    "from daal4py import gbt_classification_training, gbt_classification_prediction"
   ]
  },
  {
   "cell_type": "code",
   "execution_count": 8,
   "id": "656b0d8d",
   "metadata": {},
   "outputs": [],
   "source": [
    "GBTmodel = pickle.load(open('./d4p_GBT_model', 'rb'))"
   ]
  },
  {
   "cell_type": "code",
   "execution_count": 9,
   "id": "10fa3b2c",
   "metadata": {},
   "outputs": [],
   "source": [
    "predictor = gbt_classification_prediction(2)"
   ]
  },
  {
   "cell_type": "code",
   "execution_count": null,
   "id": "4cb9dfd2",
   "metadata": {},
   "outputs": [
    {
     "name": "stdout",
     "output_type": "stream",
     "text": [
      "Total Malware: 1\tTotal Benign: 3\n"
     ]
    }
   ],
   "source": [
    "receiving = 100\n",
    "totalMalware = 0\n",
    "totalBenign = 0\n",
    "\n",
    "extractor = PEFeatureExtractor(2)\n",
    "\n",
    "_df = spark.sql('SELECT * FROM d4p_stream ORDER BY timestamp DESC')\n",
    "while (_df.count() == 0):\n",
    "    _df = spark.sql('SELECT * FROM d4p_stream ORDER BY timestamp DESC')\n",
    "\n",
    "prev_timestamp = _df.select('timestamp').collect()[0].asDict()['timestamp']\n",
    "        \n",
    "print(\"Entering loop\")\n",
    "while (totalMalware+totalBenign < receiving):\n",
    "    \n",
    "    # Create time range\n",
    "    _df = spark.sql('SELECT * FROM d4p_stream WHERE timestamp > \\''+str(prev_timestamp)+'\\' ORDER BY timestamp DESC')\n",
    "    \n",
    "    if _df.count() != 0:\n",
    "\n",
    "        _df.persist()\n",
    "        df_data = _df.collect()\n",
    "        \n",
    "        prev_timestamp = df_data[0].asDict()['timestamp']\n",
    "        #print(prev_timestamp)\n",
    "        \n",
    "        #start_time = time.time_ns()\n",
    "        for row in df_data:\n",
    "    \n",
    "            raw_data = row.asDict()['value']\n",
    "        \n",
    "            features = extractor.feature_vector(bytes(raw_data))\n",
    "            \n",
    "            prediction = int(predictor.compute(np.reshape(features, (1,2381)), GBTmodel).prediction.flatten())\n",
    "            #print(prediction)\n",
    "            \n",
    "            if prediction==1:\n",
    "                totalMalware+=1\n",
    "            else:\n",
    "                totalBenign+=1\n",
    "            \n",
    "        clear_output(wait=True)\n",
    "        print(\"Total Malware: \"+str(totalMalware)+\"\\tTotal Benign: \"+str(totalBenign))\n"
   ]
  },
  {
   "cell_type": "code",
   "execution_count": null,
   "id": "3c7fa5f1",
   "metadata": {},
   "outputs": [],
   "source": []
  }
 ],
 "metadata": {
  "kernelspec": {
   "display_name": "Python 3 (ipykernel)",
   "language": "python",
   "name": "python3"
  },
  "language_info": {
   "codemirror_mode": {
    "name": "ipython",
    "version": 3
   },
   "file_extension": ".py",
   "mimetype": "text/x-python",
   "name": "python",
   "nbconvert_exporter": "python",
   "pygments_lexer": "ipython3",
   "version": "3.7.13"
  }
 },
 "nbformat": 4,
 "nbformat_minor": 5
}
