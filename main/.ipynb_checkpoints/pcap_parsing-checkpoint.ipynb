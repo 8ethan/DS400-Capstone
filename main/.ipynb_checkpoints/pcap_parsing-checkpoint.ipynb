{
 "cells": [
  {
   "cell_type": "code",
   "execution_count": 1,
   "id": "da0d750c",
   "metadata": {},
   "outputs": [],
   "source": [
    "import time\n",
    "import pandas as pd\n",
    "import os"
   ]
  },
  {
   "cell_type": "code",
   "execution_count": 1,
   "id": "2fbb32b6",
   "metadata": {},
   "outputs": [],
   "source": [
    "#test_dir = \"C:\\\\Users\\\\soup\\\\Desktop\\\\DS400-Capstone\\\\DS400-Capstone\\\\main\\\\test.pcap\"\n",
    "#test_dir2 = \"C:\\\\Users\\\\soup\\\\Desktop\\\\DS400-Capstone\\\\DS400-Capstone\\\\main\\\\test2.pcap\"\n",
    "#normal_dir = \"D:\\\\Notebooks\\\\DS400-Capstone\\\\main\\\\Network_dataset_pcaps\\\\normal_pcaps\"\n",
    "#mal_dir = \"D:\\\\Notebooks\\\\DS400-Capstone\\\\main\\\\Network_dataset_pcaps\\\\normal_attack_pcaps\"\n",
    "\n",
    "normal_dir = \"D:\\\\Notebooks\\\\Datasets\\\\Network_dataset_pcaps\\\\normal_pcaps\"\n",
    "mal_dir = \"D:\\\\Notebooks\\\\Datasets\\\\Network_dataset_pcaps\\\\normal_attack_pcaps\""
   ]
  },
  {
   "cell_type": "code",
   "execution_count": 3,
   "id": "cd5ec9db",
   "metadata": {},
   "outputs": [
    {
     "data": {
      "text/plain": [
       "['normal_1.pcap',\n",
       " 'normal_10.pcap',\n",
       " 'normal_11.pcap',\n",
       " 'normal_12.pcap',\n",
       " 'normal_13.pcap',\n",
       " 'normal_2.pcap',\n",
       " 'normal_3.pcap',\n",
       " 'normal_4.pcap',\n",
       " 'normal_5.pcap',\n",
       " 'normal_6.pcap',\n",
       " 'normal_7.pcap',\n",
       " 'normal_8.pcap',\n",
       " 'normal_9.pcap',\n",
       " 'normal_IoT_2.pcap',\n",
       " 'normal_IoT_3.pcap']"
      ]
     },
     "execution_count": 3,
     "metadata": {},
     "output_type": "execute_result"
    }
   ],
   "source": [
    "os.listdir(normal_dir)"
   ]
  },
  {
   "cell_type": "code",
   "execution_count": 4,
   "id": "c6607ea7",
   "metadata": {},
   "outputs": [
    {
     "data": {
      "text/plain": [
       "['Injection_normal',\n",
       " 'MITM_normal',\n",
       " 'normal_backdoor',\n",
       " 'normal_DDoS',\n",
       " 'normal_DoS',\n",
       " 'normal_runsomware',\n",
       " 'normal_scanning',\n",
       " 'normal_XSS',\n",
       " 'password_normal']"
      ]
     },
     "execution_count": 4,
     "metadata": {},
     "output_type": "execute_result"
    }
   ],
   "source": [
    "os.listdir(mal_dir)"
   ]
  },
  {
   "cell_type": "code",
   "execution_count": 19,
   "id": "2a02c4ec",
   "metadata": {},
   "outputs": [
    {
     "name": "stdout",
     "output_type": "stream",
     "text": [
      "0a 0d 0d 0a 34 00 00 00 4d 3c 2b 1a 01 00 00 00 ff ff ff ff ff ff ff ff 04 00 0d 00 45 64 69 74 63 61 70 20 32 2e 36 2e 35 00 00 00 00 00 00 00 34 00 00 00 01 00 00 00 14 00 00 00 71 00 00 00 00 00 04 00 14 00 00 00 06 00 00 00 48 02 00 00 00 00 00 00 8e 85 05 00 a5 fb 5b 1e 27 02 00 00 27 02 00 00 00 04 00 01 00 06 a4 91 b1 1e 58 a2 00 00 00 03 09 00 02 17 04 d2 00 00 7f 06 ed 8c c0 a8 01 31 c0 a8 01 01 09 00 00 00 00 01 f7 fa 00 00 00 00 50 12 04 00 5c 9c 00 00 09 01 02 03 04 05 06 07 08 09 0a 0b 0c 0d 0e 0f 10 11 12 13 14 15 16 17 18 19 1a 1b 1c 1d 1e 1f 20 21 22 23 24 25 26 27 28 29 2a 2b 2c 2d 2e 2f 30 31 32 33 34 35 36 37 38 39 3a 3b 3c 3d 3e 3f 40 41 42 43 44 45 46 47 48 49 4a 4b 4c 4d 4e 4f 50 51 52 53 54 55 56 57 58 59 5a 5b 5c 5d 5e 5f 60 61 62 63 64 65 66 67 68 69 6a 6b 6c 6d 6e 6f 70 71 72 73 74 75 76 77 78 79 7a 7b 7c 7d 7e 7f 80 81 82 83 84 85 86 87 88 89 8a 8b 8c 8d 8e 8f 90 91 92 93 94 95 96 97 98 99 9a 9b 9c 9d 9e 9f a0 a1 a2 a3 a4 a5 a6 a7 a8 a9 aa ab ac ad ae af b0 b1 b2 b3 b4 b5 b6 b7 b8 b9 ba bb bc bd be bf c0 c1 c2 c3 c4 c5 c6 c7 c8 c9 ca cb cc cd ce cf d0 d1 d2 d3 d4 d5 d6 d7 d8 d9 da db dc dd de df e0 e1 e2 e3 e4 e5 e6 e7 e8 e9 ea eb ec ed ee ef f0 f1 f2 f3 f4 f5 f6 f7 f8 f9 fa fb fc fd fe ff 00 01 02 03 04 05 06 07 08 09 0a 0b 0c 0d 0e 0f 10 11 12 13 14 15 16 17 18 19 1a 1b 1c 1d 1e 1f 20 21 22 23 24 25 26 27 28 29 2a 2b 2c 2d 2e 2f 30 31 32 33 34 35 36 37 38 39 3a 3b 3c 3d 3e 3f 40 41 42 43 44 45 46 47 48 49 4a 4b 4c 4d 4e 4f 50 51 52 53 54 55 56 57 58 59 5a 5b 5c 5d 5e 5f 60 61 62 63 64 65 66 67 68 69 6a 6b 6c 6d 6e 6f 70 71 72 73 74 75 76 77 78 79 7a 7b 7c 7d 7e 7f 80 81 82 83 84 85 86 87 88 89 8a 8b 8c 8d 8e 8f 90 91 92 93 94 95 96 97 98 99 9a 9b 9c 9d 9e 9f a0 a1 a2 a3 a4 a5 a6 a7 a8 a9 aa ab ac ad ae af b0 b1 b2 b3 b4 b5 b6 b7 b8 b9 ba bb bc bd be bf c0 c1 c2 c3 c4 c5 c6 c7 c8 c9 ca cb cc cd ce cf d0 d1 d2 d3 d4 d5 d6 d7 d8 d9 da db dc dd de df e0 e1 e2 e3 e4 e5 e6 e7 e8 e9 ea eb ec ed ee 00 48 02 00 00 06 00 00 00 48 02 00 00 00 00 00 00 8e 85 05 00 b1 15 5c 1e 28 02 00 00 28 02 00 00 00 04 00 01 00 06 a4 91 b1 1e 58 a3 00 00 00 03 0a 00 02 18 04 d2 00 00 7f 06 ec 89 c0 a8 01 32 c0 a8 01 02 0a 00 00 00 00 01 f7 fa 00 00 00 00 50 12 04 00 59 aa 00 00 0a 01 02 03 04 05 06 07 08 09 0a 0b 0c 0d 0e 0f 10 11 12 13 14 15 16 17 18 19 1a 1b 1c 1d 1e 1f 20 21 22 23 24 25 26 27 28 29 2a 2b 2c 2d 2e 2f 30 31 32 33 34 35 36 37 38 39 3a 3b 3c 3d 3e 3f 40 41 42 43 44 45 46 47 48 49 4a 4b 4c 4d 4e 4f 50 51 52 53 54 55 56 57 58 59 5a 5b 5c 5d 5e 5f 60 61 62 63 64 65 66 67 68 69 6a 6b 6c 6d 6e 6f 70 71 72 73 74 75 76 77 78 79 7a 7b 7c 7d 7e 7f 80 81 82 83 84 85 86 87 88 89 8a 8b 8c 8d 8e 8f 90 91 92 93 94 95 96 97 98 99 9a 9b 9c 9d 9e 9f a0 a1 a2 a3 a4 a5 a6 a7 a8 a9 aa ab ac ad ae af b0 b1 b2 b3 b4 b5 b6 b7 b8 b9 ba bb bc bd be bf c0 c1 c2 c3 c4 c5 c6 c7 c8 c9 ca cb cc cd ce cf d0 d1 d2 d3 d4 d5 d6 d7 d8 d9 da db dc dd de df e0 e1 e2 e3 e4 e5 e6 e7 e8 e9 ea eb ec ed ee ef f0 f1 f2 f3 f4 f5 f6 f7 f8 f9 fa fb fc fd fe ff 00 01 02 03\n"
     ]
    }
   ],
   "source": [
    "with open(normal_dir+\"\\\\normal_1.pcap\", \"rb\") as f:\n",
    "        #Find magic number\n",
    "        while (byte := f.read(1000)):\n",
    "            print(byte.hex(sep=\" \"))\n",
    "            break"
   ]
  },
  {
   "cell_type": "code",
   "execution_count": 6,
   "id": "f03c6af5",
   "metadata": {},
   "outputs": [],
   "source": [
    "# parse_pcap function needs to be able to handle v1.0 and v2.4 of pcap files"
   ]
  },
  {
   "cell_type": "code",
   "execution_count": 27,
   "id": "328191b3",
   "metadata": {},
   "outputs": [],
   "source": [
    "def parse_v1(f, df, label):\n",
    "    #block_type = f.read(4)\n",
    "    block_length = f.read(4)\n",
    "    magic_seq = f.read(4)\n",
    "    major_ver = f.read(2)\n",
    "    minor_ver = f.read(2)\n",
    "    sec_length = f.read(8)\n",
    "    options = f.read(int.from_bytes(block_length, \"little\")-28)\n",
    "    block_length2 = f.read(4)\n",
    "    \n",
    "    # Read in interface description block(s)\n",
    "    b_type = f.read(4)      \n",
    "    while int.from_bytes(b_type, \"little\") == 1:\n",
    "\n",
    "        #i_block_type = f.read(4)\n",
    "        i_block_length = f.read(4)\n",
    "        link_type = f.read(2)\n",
    "        res1 = f.read(2)\n",
    "        snap_length = f.read(4)\n",
    "        i_options = f.read(int.from_bytes(i_block_length, \"little\")-20)\n",
    "        i_block_length2 = f.read(4)\n",
    "\n",
    "        b_type = f.read(4)\n",
    "\n",
    "    f.seek(-4, 1)\n",
    "\n",
    "    test = []\n",
    "    last_loc = 0\n",
    "    # Loop through all packets\n",
    "    while f.tell() != last_loc:\n",
    "        last_loc = f.tell()\n",
    "        # Read in packet header block\n",
    "        p_block_type = f.read(4)\n",
    "        p_block_length = int.from_bytes(f.read(4), \"little\")\n",
    "        if p_block_length==0:\n",
    "            break\n",
    "        interfaceID = f.read(4)\n",
    "        timestamp1 = f.read(4)\n",
    "        timestamp2 = f.read(4)\n",
    "        if p_block_length < 24:\n",
    "            print(\"Block length too short?\")\n",
    "            print(p_block_length)\n",
    "            print(len(test))\n",
    "            break\n",
    "        data = f.read(p_block_length-24)\n",
    "        f.read(4)\n",
    "\n",
    "        test.append(data)\n",
    "        \n",
    "    temp = pd.DataFrame(data=test, columns=[\"p_bytes\"])\n",
    "    temp[\"label\"] = label\n",
    "    new_df = pd.concat([df, temp], axis=0)\n",
    "    new_df.reset_index(drop=True, inplace=True)\n",
    "    return new_df\n",
    "    \n",
    "\n",
    "def parse_v2(f, df, label):\n",
    "    \n",
    "    #Read in file header\n",
    "    version = f.read(4)\n",
    "    reserves = f.read(8)\n",
    "    snap_len = f.read(4)\n",
    "    link_type = f.read(4)\n",
    "    \n",
    "    test = []\n",
    "    last_loc = 0\n",
    "    while f.tell() != last_loc:\n",
    "        #Read in packet header\n",
    "        last_loc = f.tell()\n",
    "        ts1 = f.read(4)\n",
    "        ts2 = f.read(4)\n",
    "        cap_len = f.read(4)\n",
    "        if int.from_bytes(cap_len, \"little\") == 0:\n",
    "            break\n",
    "        p_len = f.read(4)\n",
    "        data = f.read(int.from_bytes(cap_len, \"little\"))\n",
    "        test.append(data)\n",
    "        \n",
    "    temp = pd.DataFrame(data=test, columns=[\"p_bytes\"])\n",
    "    temp[\"label\"] = label\n",
    "    new_df = pd.concat([df, temp], axis=0)\n",
    "    new_df.reset_index(drop=True, inplace=True)\n",
    "    return new_df\n",
    "    \n",
    "\n",
    "def parse_pcap(file_dir, df, label):\n",
    "    with open(file_dir, \"rb\") as f:\n",
    "        \n",
    "        magic_nums = [\"d4c3b2a1\"]\n",
    "        starter = \"0a0d0d0a\"\n",
    "        \n",
    "        first_read = f.read(4)\n",
    "        #print(first_read.hex())\n",
    "        if first_read.hex() in magic_nums:\n",
    "            print(\"Using v2.4\")\n",
    "            magic_seq = first_read\n",
    "            return parse_v2(f, df , label)\n",
    "        elif first_read.hex()==starter:\n",
    "            print(\"Using v1.0\")\n",
    "            block_type = first_read\n",
    "            return parse_v1(f, df, label)\n",
    "        else:\n",
    "            print(\"Unable to detect the pcap file format.\")"
   ]
  },
  {
   "cell_type": "code",
   "execution_count": 8,
   "id": "07e534f6",
   "metadata": {},
   "outputs": [],
   "source": [
    "df = pd.DataFrame(columns=[\"p_bytes\"])"
   ]
  },
  {
   "cell_type": "code",
   "execution_count": 9,
   "id": "a16a1977",
   "metadata": {},
   "outputs": [
    {
     "name": "stdout",
     "output_type": "stream",
     "text": [
      "0a0d0d0a\n",
      "Using v1.0\n"
     ]
    }
   ],
   "source": [
    "temp = pd.DataFrame(columns=[\"p_bytes\"])\n",
    "temp = parse_pcap(normal_dir+\"\\\\normal_1.pcap\", temp, 0)"
   ]
  },
  {
   "cell_type": "code",
   "execution_count": 11,
   "id": "e26fda88",
   "metadata": {
    "scrolled": true
   },
   "outputs": [
    {
     "data": {
      "text/plain": [
       "'2702000027020000000400010006a491b11e58a2000000030900021704d200007f06ed8cc0a80131c0a80101090000000001f7fa00000000501204005c9c0000090102030405060708090a0b0c0d0e0f101112131415161718191a1b1c1d1e1f202122232425262728292a2b2c2d2e2f303132333435363738393a3b3c3d3e3f404142434445464748494a4b4c4d4e4f505152535455565758595a5b5c5d5e5f606162636465666768696a6b6c6d6e6f707172737475767778797a7b7c7d7e7f808182838485868788898a8b8c8d8e8f909192939495969798999a9b9c9d9e9fa0a1a2a3a4a5a6a7a8a9aaabacadaeafb0b1b2b3b4b5b6b7b8b9babbbcbdbebfc0c1c2c3c4c5c6c7c8c9cacbcccdcecfd0d1d2d3d4d5d6d7d8d9dadbdcdddedfe0e1e2e3e4e5e6e7e8e9eaebecedeeeff0f1f2f3f4f5f6f7f8f9fafbfcfdfeff000102030405060708090a0b0c0d0e0f101112131415161718191a1b1c1d1e1f202122232425262728292a2b2c2d2e2f303132333435363738393a3b3c3d3e3f404142434445464748494a4b4c4d4e4f505152535455565758595a5b5c5d5e5f606162636465666768696a6b6c6d6e6f707172737475767778797a7b7c7d7e7f808182838485868788898a8b8c8d8e8f909192939495969798999a9b9c9d9e9fa0a1a2a3a4a5a6a7a8a9aaabacadaeafb0b1b2b3b4b5b6b7b8b9babbbcbdbebfc0c1c2c3c4c5c6c7c8c9cacbcccdcecfd0d1d2d3d4d5d6d7d8d9dadbdcdddedfe0e1e2e3e4e5e6e7e8e9eaebecedee00'"
      ]
     },
     "execution_count": 11,
     "metadata": {},
     "output_type": "execute_result"
    }
   ],
   "source": [
    "temp['p_bytes'][0].hex(sep=\" \")"
   ]
  },
  {
   "cell_type": "code",
   "execution_count": 12,
   "id": "8b941755",
   "metadata": {},
   "outputs": [
    {
     "name": "stdout",
     "output_type": "stream",
     "text": [
      "0a0d0d0a\n",
      "Using v1.0\n"
     ]
    }
   ],
   "source": [
    "temp = pd.DataFrame(columns=[\"p_bytes\"])\n",
    "temp = parse_pcap(mal_dir+\"\\\\normal_runsomware\\\\normal_runsomware2.pcap\", temp, 1)"
   ]
  },
  {
   "cell_type": "code",
   "execution_count": 16,
   "id": "49ba502d",
   "metadata": {},
   "outputs": [
    {
     "data": {
      "text/plain": [
       "'36 01 00 00 36 01 00 00 00 0c 29 b8 b1 74 00 0c 29 a4 03 f4 08 00 45 00 01 28 06 69 40 00 80 06 6f 34 c0 a8 01 c1 c0 a8 01 21 c0 30 11 5c 1d dc ca bf 1b 8e ea 32 50 18 3f 51 47 ad 00 00 2a b4 ef 55 d0 93 aa 48 82 a5 a9 93 9f 79 33 74 ba 3b 46 94 2a b4 ef 54 2a b4 ef bd 2a b4 ef 54 ac 14 9a 71 3d d6 31 81 3a 2e 7d c1 ff 58 c5 6e 2a 95 5e 74 7e f0 39 b6 56 0a 45 1a 50 32 00 c7 ac 09 2f bd 0f 59 f5 08 0e 75 9d 86 2f 13 9d 64 8d f5 14 66 8f 8c fd 46 d1 88 31 50 f9 83 f1 2d fd 42 fd d4 a5 0f 76 97 39 4e b3 e6 0e af f4 9e 5d f1 ed 0f d4 f3 d9 aa b7 da 56 0d 20 7d 5f 6b 25 9d a9 3c 67 d7 7c ce 24 61 cc 5e 46 11 33 49 9c 0a 97 32 c8 03 a7 50 1b 4f 08 66 c4 a5 ae 84 55 9e 25 05 e6 8a 4f 18 df e3 2e 63 32 fa 0d b2 52 8e 62 d3 10 e7 4c 75 84 a8 9b 1f 3b 79 80 ed c5 96 7e 92 e5 69 8c 3c 1f a0 ac c8 59 07 40 1e 1b 1c 3b 1d bd 99 ac ea 38 d9 2a 12 c4 64 ef b8 a1 ec f8 c8 30 c0 70 dc 38 05 e4 a3 a9 a8 20 b6 c2 c5 51 13 19 da e1 6a cd 1b 5a 5f a6 8f 63 09 00 00'"
      ]
     },
     "execution_count": 16,
     "metadata": {},
     "output_type": "execute_result"
    }
   ],
   "source": [
    "temp['p_bytes'][0].hex(sep=\" \")"
   ]
  },
  {
   "cell_type": "code",
   "execution_count": 17,
   "id": "9155ca26",
   "metadata": {},
   "outputs": [
    {
     "name": "stdout",
     "output_type": "stream",
     "text": [
      "d4c3b2a1\n",
      "Using v2.4\n"
     ]
    }
   ],
   "source": [
    "temp = pd.DataFrame(columns=[\"p_bytes\"])\n",
    "temp = parse_pcap(\"D:\\\\Notebooks\\\\DS400-Capstone\\\\main\\\\Network_dataset_pcaps\\\\normal_attack_pcaps\\\\normal_XSS\\\\normal_XSS1.pcap\", temp, 1)"
   ]
  },
  {
   "cell_type": "code",
   "execution_count": 18,
   "id": "653b2182",
   "metadata": {},
   "outputs": [
    {
     "data": {
      "text/plain": [
       "'00 0c 29 5b 73 5b 00 0c 29 28 72 d1 08 00 45 00 00 34 46 06 40 00 40 06 70 b1 c0 a8 01 98 c0 a8 01 24 00 50 93 18 72 f3 26 81 db 64 22 37 80 10 00 f9 3a 13 00 00 01 01 08 0a 92 ce c1 8b 38 0e 00 c3'"
      ]
     },
     "execution_count": 18,
     "metadata": {},
     "output_type": "execute_result"
    }
   ],
   "source": [
    "temp['p_bytes'][0].hex(sep=\" \")"
   ]
  },
  {
   "cell_type": "code",
   "execution_count": 20,
   "id": "1edf204f",
   "metadata": {},
   "outputs": [
    {
     "name": "stdout",
     "output_type": "stream",
     "text": [
      "0a0d0d0a\n",
      "Using v1.0\n",
      "0a0d0d0a\n",
      "Using v1.0\n",
      "0a0d0d0a\n",
      "Using v1.0\n",
      "0a0d0d0a\n",
      "Using v1.0\n",
      "0a0d0d0a\n",
      "Using v1.0\n",
      "0a0d0d0a\n",
      "Using v1.0\n",
      "0a0d0d0a\n",
      "Using v1.0\n",
      "0a0d0d0a\n",
      "Using v1.0\n",
      "0a0d0d0a\n",
      "Using v1.0\n",
      "0a0d0d0a\n",
      "Using v1.0\n",
      "0a0d0d0a\n",
      "Using v1.0\n",
      "0a0d0d0a\n",
      "Using v1.0\n",
      "0a0d0d0a\n",
      "Using v1.0\n",
      "d4c3b2a1\n",
      "Using v2.4\n",
      "d4c3b2a1\n",
      "Using v2.4\n"
     ]
    }
   ],
   "source": [
    "# Parse all normal pcaps and insert them into df\n",
    "i = 1\n",
    "for file_name in os.listdir(normal_dir):\n",
    "    print(str(i)+\"/\"+str(len(os.listdir(normal_dir))), end=\" : \")\n",
    "    df = parse_pcap(normal_dir+\"\\\\\"+file_name, df, 0)\n",
    "    i += 1"
   ]
  },
  {
   "cell_type": "code",
   "execution_count": 21,
   "id": "17bc03cc",
   "metadata": {},
   "outputs": [
    {
     "data": {
      "text/plain": [
       "31287179"
      ]
     },
     "execution_count": 21,
     "metadata": {},
     "output_type": "execute_result"
    }
   ],
   "source": [
    "len(df)"
   ]
  },
  {
   "cell_type": "code",
   "execution_count": 22,
   "id": "d7429195",
   "metadata": {},
   "outputs": [],
   "source": [
    "df.to_pickle('./raw_normal.pkl')"
   ]
  },
  {
   "cell_type": "code",
   "execution_count": 23,
   "id": "9f61dd9e",
   "metadata": {},
   "outputs": [
    {
     "name": "stdout",
     "output_type": "stream",
     "text": [
      "<class 'pandas.core.frame.DataFrame'>\n",
      "RangeIndex: 31287179 entries, 0 to 31287178\n",
      "Data columns (total 2 columns):\n",
      " #   Column   Dtype  \n",
      "---  ------   -----  \n",
      " 0   p_bytes  object \n",
      " 1   label    float64\n",
      "dtypes: float64(1), object(1)\n",
      "memory usage: 477.4+ MB\n"
     ]
    }
   ],
   "source": [
    "df.info()"
   ]
  },
  {
   "cell_type": "code",
   "execution_count": 24,
   "id": "be842305",
   "metadata": {},
   "outputs": [
    {
     "data": {
      "text/html": [
       "<div>\n",
       "<style scoped>\n",
       "    .dataframe tbody tr th:only-of-type {\n",
       "        vertical-align: middle;\n",
       "    }\n",
       "\n",
       "    .dataframe tbody tr th {\n",
       "        vertical-align: top;\n",
       "    }\n",
       "\n",
       "    .dataframe thead th {\n",
       "        text-align: right;\n",
       "    }\n",
       "</style>\n",
       "<table border=\"1\" class=\"dataframe\">\n",
       "  <thead>\n",
       "    <tr style=\"text-align: right;\">\n",
       "      <th></th>\n",
       "      <th>p_bytes</th>\n",
       "      <th>label</th>\n",
       "    </tr>\n",
       "  </thead>\n",
       "  <tbody>\n",
       "    <tr>\n",
       "      <th>0</th>\n",
       "      <td>b'\\'\\x02\\x00\\x00\\'\\x02\\x00\\x00\\x00\\x04\\x00\\x01...</td>\n",
       "      <td>0.0</td>\n",
       "    </tr>\n",
       "    <tr>\n",
       "      <th>1</th>\n",
       "      <td>b'(\\x02\\x00\\x00(\\x02\\x00\\x00\\x00\\x04\\x00\\x01\\x...</td>\n",
       "      <td>0.0</td>\n",
       "    </tr>\n",
       "    <tr>\n",
       "      <th>2</th>\n",
       "      <td>b'\\xbd\\x00\\x00\\x00\\xbd\\x00\\x00\\x00\\x00\\x03\\x00...</td>\n",
       "      <td>0.0</td>\n",
       "    </tr>\n",
       "    <tr>\n",
       "      <th>3</th>\n",
       "      <td>b'\\xbd\\x00\\x00\\x00\\xbd\\x00\\x00\\x00\\x00\\x00\\x00...</td>\n",
       "      <td>0.0</td>\n",
       "    </tr>\n",
       "    <tr>\n",
       "      <th>4</th>\n",
       "      <td>b'D\\x00\\x00\\x00D\\x00\\x00\\x00\\x00\\x04\\x00\\x01\\x...</td>\n",
       "      <td>0.0</td>\n",
       "    </tr>\n",
       "  </tbody>\n",
       "</table>\n",
       "</div>"
      ],
      "text/plain": [
       "                                             p_bytes  label\n",
       "0  b'\\'\\x02\\x00\\x00\\'\\x02\\x00\\x00\\x00\\x04\\x00\\x01...    0.0\n",
       "1  b'(\\x02\\x00\\x00(\\x02\\x00\\x00\\x00\\x04\\x00\\x01\\x...    0.0\n",
       "2  b'\\xbd\\x00\\x00\\x00\\xbd\\x00\\x00\\x00\\x00\\x03\\x00...    0.0\n",
       "3  b'\\xbd\\x00\\x00\\x00\\xbd\\x00\\x00\\x00\\x00\\x00\\x00...    0.0\n",
       "4  b'D\\x00\\x00\\x00D\\x00\\x00\\x00\\x00\\x04\\x00\\x01\\x...    0.0"
      ]
     },
     "execution_count": 24,
     "metadata": {},
     "output_type": "execute_result"
    }
   ],
   "source": [
    "df.head()"
   ]
  },
  {
   "cell_type": "code",
   "execution_count": 31,
   "id": "a452e083",
   "metadata": {},
   "outputs": [],
   "source": [
    "del(df)"
   ]
  },
  {
   "cell_type": "code",
   "execution_count": 30,
   "id": "1388b6c9",
   "metadata": {},
   "outputs": [
    {
     "name": "stdout",
     "output_type": "stream",
     "text": [
      "Injection_normal\n",
      "1/4 : Using v2.4\n",
      "2/4 : Using v1.0\n",
      "3/4 : Using v1.0\n",
      "4/4 : Using v2.4\n",
      "MITM_normal\n",
      "1/4 : Using v2.4\n",
      "2/4 : Using v2.4\n",
      "3/4 : Using v2.4\n",
      "4/4 : Using v2.4\n",
      "normal_backdoor\n",
      "1/1 : Using v1.0\n",
      "normal_DDoS\n",
      "1/12 : Using v2.4\n",
      "2/12 : Using v1.0\n",
      "3/12 : Using v1.0\n",
      "4/12 : Using v1.0\n",
      "5/12 : Using v2.4\n",
      "6/12 : Using v1.0\n",
      "7/12 : Using v1.0\n",
      "8/12 : Using v1.0\n",
      "9/12 : Using v1.0\n",
      "10/12 : Using v1.0\n",
      "11/12 : Using v1.0\n",
      "12/12 : Using v1.0\n",
      "normal_DoS\n",
      "1/5 : Using v2.4\n",
      "2/5 : Using v1.0\n",
      "3/5 : Using v1.0\n",
      "4/5 : Using v1.0\n",
      "5/5 : Using v1.0\n",
      "normal_runsomware\n",
      "1/2 : Using v1.0\n",
      "2/2 : Using v1.0\n",
      "normal_scanning\n",
      "1/6 : Using v2.4\n",
      "2/6 : Using v2.4\n"
     ]
    },
    {
     "ename": "KeyboardInterrupt",
     "evalue": "",
     "output_type": "error",
     "traceback": [
      "\u001b[1;31m---------------------------------------------------------------------------\u001b[0m",
      "\u001b[1;31mKeyboardInterrupt\u001b[0m                         Traceback (most recent call last)",
      "\u001b[1;32m~\\AppData\\Local\\Temp\\ipykernel_48672\\4215373917.py\u001b[0m in \u001b[0;36m<module>\u001b[1;34m\u001b[0m\n\u001b[0;32m      7\u001b[0m     \u001b[1;32mfor\u001b[0m \u001b[0mfile_name\u001b[0m \u001b[1;32min\u001b[0m \u001b[0mos\u001b[0m\u001b[1;33m.\u001b[0m\u001b[0mlistdir\u001b[0m\u001b[1;33m(\u001b[0m\u001b[0mmal_dir\u001b[0m\u001b[1;33m+\u001b[0m\u001b[1;34m\"\\\\\"\u001b[0m\u001b[1;33m+\u001b[0m\u001b[0mfolder\u001b[0m\u001b[1;33m)\u001b[0m\u001b[1;33m:\u001b[0m\u001b[1;33m\u001b[0m\u001b[1;33m\u001b[0m\u001b[0m\n\u001b[0;32m      8\u001b[0m         \u001b[0mprint\u001b[0m\u001b[1;33m(\u001b[0m\u001b[0mstr\u001b[0m\u001b[1;33m(\u001b[0m\u001b[0mi\u001b[0m\u001b[1;33m)\u001b[0m\u001b[1;33m+\u001b[0m\u001b[1;34m\"/\"\u001b[0m\u001b[1;33m+\u001b[0m\u001b[0mstr\u001b[0m\u001b[1;33m(\u001b[0m\u001b[0mlen\u001b[0m\u001b[1;33m(\u001b[0m\u001b[0mos\u001b[0m\u001b[1;33m.\u001b[0m\u001b[0mlistdir\u001b[0m\u001b[1;33m(\u001b[0m\u001b[0mmal_dir\u001b[0m\u001b[1;33m+\u001b[0m\u001b[1;34m\"\\\\\"\u001b[0m\u001b[1;33m+\u001b[0m\u001b[0mfolder\u001b[0m\u001b[1;33m)\u001b[0m\u001b[1;33m)\u001b[0m\u001b[1;33m)\u001b[0m\u001b[1;33m,\u001b[0m \u001b[0mend\u001b[0m\u001b[1;33m=\u001b[0m\u001b[1;34m\" : \"\u001b[0m\u001b[1;33m)\u001b[0m\u001b[1;33m\u001b[0m\u001b[1;33m\u001b[0m\u001b[0m\n\u001b[1;32m----> 9\u001b[1;33m         \u001b[0mdf\u001b[0m \u001b[1;33m=\u001b[0m \u001b[0mparse_pcap\u001b[0m\u001b[1;33m(\u001b[0m\u001b[0mmal_dir\u001b[0m\u001b[1;33m+\u001b[0m\u001b[1;34m\"\\\\\"\u001b[0m\u001b[1;33m+\u001b[0m\u001b[0mfolder\u001b[0m\u001b[1;33m+\u001b[0m\u001b[1;34m\"\\\\\"\u001b[0m\u001b[1;33m+\u001b[0m\u001b[0mfile_name\u001b[0m\u001b[1;33m,\u001b[0m \u001b[0mdf\u001b[0m\u001b[1;33m,\u001b[0m \u001b[1;36m1\u001b[0m\u001b[1;33m)\u001b[0m\u001b[1;33m\u001b[0m\u001b[1;33m\u001b[0m\u001b[0m\n\u001b[0m\u001b[0;32m     10\u001b[0m         \u001b[0mi\u001b[0m \u001b[1;33m+=\u001b[0m \u001b[1;36m1\u001b[0m\u001b[1;33m\u001b[0m\u001b[1;33m\u001b[0m\u001b[0m\n",
      "\u001b[1;32m~\\AppData\\Local\\Temp\\ipykernel_48672\\2627684123.py\u001b[0m in \u001b[0;36mparse_pcap\u001b[1;34m(file_dir, df, label)\u001b[0m\n\u001b[0;32m     95\u001b[0m             \u001b[0mprint\u001b[0m\u001b[1;33m(\u001b[0m\u001b[1;34m\"Using v2.4\"\u001b[0m\u001b[1;33m)\u001b[0m\u001b[1;33m\u001b[0m\u001b[1;33m\u001b[0m\u001b[0m\n\u001b[0;32m     96\u001b[0m             \u001b[0mmagic_seq\u001b[0m \u001b[1;33m=\u001b[0m \u001b[0mfirst_read\u001b[0m\u001b[1;33m\u001b[0m\u001b[1;33m\u001b[0m\u001b[0m\n\u001b[1;32m---> 97\u001b[1;33m             \u001b[1;32mreturn\u001b[0m \u001b[0mparse_v2\u001b[0m\u001b[1;33m(\u001b[0m\u001b[0mf\u001b[0m\u001b[1;33m,\u001b[0m \u001b[0mdf\u001b[0m \u001b[1;33m,\u001b[0m \u001b[0mlabel\u001b[0m\u001b[1;33m)\u001b[0m\u001b[1;33m\u001b[0m\u001b[1;33m\u001b[0m\u001b[0m\n\u001b[0m\u001b[0;32m     98\u001b[0m         \u001b[1;32melif\u001b[0m \u001b[0mfirst_read\u001b[0m\u001b[1;33m.\u001b[0m\u001b[0mhex\u001b[0m\u001b[1;33m(\u001b[0m\u001b[1;33m)\u001b[0m\u001b[1;33m==\u001b[0m\u001b[0mstarter\u001b[0m\u001b[1;33m:\u001b[0m\u001b[1;33m\u001b[0m\u001b[1;33m\u001b[0m\u001b[0m\n\u001b[0;32m     99\u001b[0m             \u001b[0mprint\u001b[0m\u001b[1;33m(\u001b[0m\u001b[1;34m\"Using v1.0\"\u001b[0m\u001b[1;33m)\u001b[0m\u001b[1;33m\u001b[0m\u001b[1;33m\u001b[0m\u001b[0m\n",
      "\u001b[1;32m~\\AppData\\Local\\Temp\\ipykernel_48672\\2627684123.py\u001b[0m in \u001b[0;36mparse_v2\u001b[1;34m(f, df, label)\u001b[0m\n\u001b[0;32m     79\u001b[0m     \u001b[0mtemp\u001b[0m \u001b[1;33m=\u001b[0m \u001b[0mpd\u001b[0m\u001b[1;33m.\u001b[0m\u001b[0mDataFrame\u001b[0m\u001b[1;33m(\u001b[0m\u001b[0mdata\u001b[0m\u001b[1;33m=\u001b[0m\u001b[0mtest\u001b[0m\u001b[1;33m,\u001b[0m \u001b[0mcolumns\u001b[0m\u001b[1;33m=\u001b[0m\u001b[1;33m[\u001b[0m\u001b[1;34m\"p_bytes\"\u001b[0m\u001b[1;33m]\u001b[0m\u001b[1;33m)\u001b[0m\u001b[1;33m\u001b[0m\u001b[1;33m\u001b[0m\u001b[0m\n\u001b[0;32m     80\u001b[0m     \u001b[0mtemp\u001b[0m\u001b[1;33m[\u001b[0m\u001b[1;34m\"label\"\u001b[0m\u001b[1;33m]\u001b[0m \u001b[1;33m=\u001b[0m \u001b[0mlabel\u001b[0m\u001b[1;33m\u001b[0m\u001b[1;33m\u001b[0m\u001b[0m\n\u001b[1;32m---> 81\u001b[1;33m     \u001b[0mnew_df\u001b[0m \u001b[1;33m=\u001b[0m \u001b[0mpd\u001b[0m\u001b[1;33m.\u001b[0m\u001b[0mconcat\u001b[0m\u001b[1;33m(\u001b[0m\u001b[1;33m[\u001b[0m\u001b[0mdf\u001b[0m\u001b[1;33m,\u001b[0m \u001b[0mtemp\u001b[0m\u001b[1;33m]\u001b[0m\u001b[1;33m,\u001b[0m \u001b[0maxis\u001b[0m\u001b[1;33m=\u001b[0m\u001b[1;36m0\u001b[0m\u001b[1;33m)\u001b[0m\u001b[1;33m\u001b[0m\u001b[1;33m\u001b[0m\u001b[0m\n\u001b[0m\u001b[0;32m     82\u001b[0m     \u001b[0mnew_df\u001b[0m\u001b[1;33m.\u001b[0m\u001b[0mreset_index\u001b[0m\u001b[1;33m(\u001b[0m\u001b[0mdrop\u001b[0m\u001b[1;33m=\u001b[0m\u001b[1;32mTrue\u001b[0m\u001b[1;33m,\u001b[0m \u001b[0minplace\u001b[0m\u001b[1;33m=\u001b[0m\u001b[1;32mTrue\u001b[0m\u001b[1;33m)\u001b[0m\u001b[1;33m\u001b[0m\u001b[1;33m\u001b[0m\u001b[0m\n\u001b[0;32m     83\u001b[0m     \u001b[1;32mreturn\u001b[0m \u001b[0mnew_df\u001b[0m\u001b[1;33m\u001b[0m\u001b[1;33m\u001b[0m\u001b[0m\n",
      "\u001b[1;32m~\\anaconda3\\lib\\site-packages\\pandas\\util\\_decorators.py\u001b[0m in \u001b[0;36mwrapper\u001b[1;34m(*args, **kwargs)\u001b[0m\n\u001b[0;32m    309\u001b[0m                     \u001b[0mstacklevel\u001b[0m\u001b[1;33m=\u001b[0m\u001b[0mstacklevel\u001b[0m\u001b[1;33m,\u001b[0m\u001b[1;33m\u001b[0m\u001b[1;33m\u001b[0m\u001b[0m\n\u001b[0;32m    310\u001b[0m                 )\n\u001b[1;32m--> 311\u001b[1;33m             \u001b[1;32mreturn\u001b[0m \u001b[0mfunc\u001b[0m\u001b[1;33m(\u001b[0m\u001b[1;33m*\u001b[0m\u001b[0margs\u001b[0m\u001b[1;33m,\u001b[0m \u001b[1;33m**\u001b[0m\u001b[0mkwargs\u001b[0m\u001b[1;33m)\u001b[0m\u001b[1;33m\u001b[0m\u001b[1;33m\u001b[0m\u001b[0m\n\u001b[0m\u001b[0;32m    312\u001b[0m \u001b[1;33m\u001b[0m\u001b[0m\n\u001b[0;32m    313\u001b[0m         \u001b[1;32mreturn\u001b[0m \u001b[0mwrapper\u001b[0m\u001b[1;33m\u001b[0m\u001b[1;33m\u001b[0m\u001b[0m\n",
      "\u001b[1;32m~\\anaconda3\\lib\\site-packages\\pandas\\core\\reshape\\concat.py\u001b[0m in \u001b[0;36mconcat\u001b[1;34m(objs, axis, join, ignore_index, keys, levels, names, verify_integrity, sort, copy)\u001b[0m\n\u001b[0;32m    358\u001b[0m     )\n\u001b[0;32m    359\u001b[0m \u001b[1;33m\u001b[0m\u001b[0m\n\u001b[1;32m--> 360\u001b[1;33m     \u001b[1;32mreturn\u001b[0m \u001b[0mop\u001b[0m\u001b[1;33m.\u001b[0m\u001b[0mget_result\u001b[0m\u001b[1;33m(\u001b[0m\u001b[1;33m)\u001b[0m\u001b[1;33m\u001b[0m\u001b[1;33m\u001b[0m\u001b[0m\n\u001b[0m\u001b[0;32m    361\u001b[0m \u001b[1;33m\u001b[0m\u001b[0m\n\u001b[0;32m    362\u001b[0m \u001b[1;33m\u001b[0m\u001b[0m\n",
      "\u001b[1;32m~\\anaconda3\\lib\\site-packages\\pandas\\core\\reshape\\concat.py\u001b[0m in \u001b[0;36mget_result\u001b[1;34m(self)\u001b[0m\n\u001b[0;32m    593\u001b[0m                 \u001b[0mmgrs_indexers\u001b[0m\u001b[1;33m.\u001b[0m\u001b[0mappend\u001b[0m\u001b[1;33m(\u001b[0m\u001b[1;33m(\u001b[0m\u001b[0mobj\u001b[0m\u001b[1;33m.\u001b[0m\u001b[0m_mgr\u001b[0m\u001b[1;33m,\u001b[0m \u001b[0mindexers\u001b[0m\u001b[1;33m)\u001b[0m\u001b[1;33m)\u001b[0m\u001b[1;33m\u001b[0m\u001b[1;33m\u001b[0m\u001b[0m\n\u001b[0;32m    594\u001b[0m \u001b[1;33m\u001b[0m\u001b[0m\n\u001b[1;32m--> 595\u001b[1;33m             new_data = concatenate_managers(\n\u001b[0m\u001b[0;32m    596\u001b[0m                 \u001b[0mmgrs_indexers\u001b[0m\u001b[1;33m,\u001b[0m \u001b[0mself\u001b[0m\u001b[1;33m.\u001b[0m\u001b[0mnew_axes\u001b[0m\u001b[1;33m,\u001b[0m \u001b[0mconcat_axis\u001b[0m\u001b[1;33m=\u001b[0m\u001b[0mself\u001b[0m\u001b[1;33m.\u001b[0m\u001b[0mbm_axis\u001b[0m\u001b[1;33m,\u001b[0m \u001b[0mcopy\u001b[0m\u001b[1;33m=\u001b[0m\u001b[0mself\u001b[0m\u001b[1;33m.\u001b[0m\u001b[0mcopy\u001b[0m\u001b[1;33m\u001b[0m\u001b[1;33m\u001b[0m\u001b[0m\n\u001b[0;32m    597\u001b[0m             )\n",
      "\u001b[1;32m~\\anaconda3\\lib\\site-packages\\pandas\\core\\internals\\concat.py\u001b[0m in \u001b[0;36mconcatenate_managers\u001b[1;34m(mgrs_indexers, axes, concat_axis, copy)\u001b[0m\n\u001b[0;32m    223\u001b[0m                 \u001b[0mvalues\u001b[0m \u001b[1;33m=\u001b[0m \u001b[0mvalues\u001b[0m\u001b[1;33m.\u001b[0m\u001b[0mview\u001b[0m\u001b[1;33m(\u001b[0m\u001b[1;33m)\u001b[0m\u001b[1;33m\u001b[0m\u001b[1;33m\u001b[0m\u001b[0m\n\u001b[0;32m    224\u001b[0m             \u001b[0mfastpath\u001b[0m \u001b[1;33m=\u001b[0m \u001b[1;32mTrue\u001b[0m\u001b[1;33m\u001b[0m\u001b[1;33m\u001b[0m\u001b[0m\n\u001b[1;32m--> 225\u001b[1;33m         \u001b[1;32melif\u001b[0m \u001b[0m_is_uniform_join_units\u001b[0m\u001b[1;33m(\u001b[0m\u001b[0mjoin_units\u001b[0m\u001b[1;33m)\u001b[0m\u001b[1;33m:\u001b[0m\u001b[1;33m\u001b[0m\u001b[1;33m\u001b[0m\u001b[0m\n\u001b[0m\u001b[0;32m    226\u001b[0m             \u001b[0mvals\u001b[0m \u001b[1;33m=\u001b[0m \u001b[1;33m[\u001b[0m\u001b[0mju\u001b[0m\u001b[1;33m.\u001b[0m\u001b[0mblock\u001b[0m\u001b[1;33m.\u001b[0m\u001b[0mvalues\u001b[0m \u001b[1;32mfor\u001b[0m \u001b[0mju\u001b[0m \u001b[1;32min\u001b[0m \u001b[0mjoin_units\u001b[0m\u001b[1;33m]\u001b[0m\u001b[1;33m\u001b[0m\u001b[1;33m\u001b[0m\u001b[0m\n\u001b[0;32m    227\u001b[0m \u001b[1;33m\u001b[0m\u001b[0m\n",
      "\u001b[1;32m~\\anaconda3\\lib\\site-packages\\pandas\\core\\internals\\concat.py\u001b[0m in \u001b[0;36m_is_uniform_join_units\u001b[1;34m(join_units)\u001b[0m\n\u001b[0;32m    654\u001b[0m         \u001b[1;32mand\u001b[0m\u001b[1;33m\u001b[0m\u001b[1;33m\u001b[0m\u001b[0m\n\u001b[0;32m    655\u001b[0m         \u001b[1;31m# e.g. DatetimeLikeBlock can be dt64 or td64, but these are not uniform\u001b[0m\u001b[1;33m\u001b[0m\u001b[1;33m\u001b[0m\u001b[0m\n\u001b[1;32m--> 656\u001b[1;33m         all(\n\u001b[0m\u001b[0;32m    657\u001b[0m             \u001b[0mis_dtype_equal\u001b[0m\u001b[1;33m(\u001b[0m\u001b[0mju\u001b[0m\u001b[1;33m.\u001b[0m\u001b[0mblock\u001b[0m\u001b[1;33m.\u001b[0m\u001b[0mdtype\u001b[0m\u001b[1;33m,\u001b[0m \u001b[0mfirst\u001b[0m\u001b[1;33m.\u001b[0m\u001b[0mdtype\u001b[0m\u001b[1;33m)\u001b[0m\u001b[1;33m\u001b[0m\u001b[1;33m\u001b[0m\u001b[0m\n\u001b[0;32m    658\u001b[0m             \u001b[1;31m# GH#42092 we only want the dtype_equal check for non-numeric blocks\u001b[0m\u001b[1;33m\u001b[0m\u001b[1;33m\u001b[0m\u001b[0m\n",
      "\u001b[1;32m~\\anaconda3\\lib\\site-packages\\pandas\\core\\internals\\concat.py\u001b[0m in \u001b[0;36m<genexpr>\u001b[1;34m(.0)\u001b[0m\n\u001b[0;32m    655\u001b[0m         \u001b[1;31m# e.g. DatetimeLikeBlock can be dt64 or td64, but these are not uniform\u001b[0m\u001b[1;33m\u001b[0m\u001b[1;33m\u001b[0m\u001b[0m\n\u001b[0;32m    656\u001b[0m         all(\n\u001b[1;32m--> 657\u001b[1;33m             \u001b[0mis_dtype_equal\u001b[0m\u001b[1;33m(\u001b[0m\u001b[0mju\u001b[0m\u001b[1;33m.\u001b[0m\u001b[0mblock\u001b[0m\u001b[1;33m.\u001b[0m\u001b[0mdtype\u001b[0m\u001b[1;33m,\u001b[0m \u001b[0mfirst\u001b[0m\u001b[1;33m.\u001b[0m\u001b[0mdtype\u001b[0m\u001b[1;33m)\u001b[0m\u001b[1;33m\u001b[0m\u001b[1;33m\u001b[0m\u001b[0m\n\u001b[0m\u001b[0;32m    658\u001b[0m             \u001b[1;31m# GH#42092 we only want the dtype_equal check for non-numeric blocks\u001b[0m\u001b[1;33m\u001b[0m\u001b[1;33m\u001b[0m\u001b[0m\n\u001b[0;32m    659\u001b[0m             \u001b[1;31m#  (for now, may change but that would need a deprecation)\u001b[0m\u001b[1;33m\u001b[0m\u001b[1;33m\u001b[0m\u001b[0m\n",
      "\u001b[1;32m~\\anaconda3\\lib\\site-packages\\pandas\\core\\dtypes\\common.py\u001b[0m in \u001b[0;36mis_dtype_equal\u001b[1;34m(source, target)\u001b[0m\n\u001b[0;32m    622\u001b[0m         \u001b[0msource\u001b[0m \u001b[1;33m=\u001b[0m \u001b[0mget_dtype\u001b[0m\u001b[1;33m(\u001b[0m\u001b[0msource\u001b[0m\u001b[1;33m)\u001b[0m\u001b[1;33m\u001b[0m\u001b[1;33m\u001b[0m\u001b[0m\n\u001b[0;32m    623\u001b[0m         \u001b[0mtarget\u001b[0m \u001b[1;33m=\u001b[0m \u001b[0mget_dtype\u001b[0m\u001b[1;33m(\u001b[0m\u001b[0mtarget\u001b[0m\u001b[1;33m)\u001b[0m\u001b[1;33m\u001b[0m\u001b[1;33m\u001b[0m\u001b[0m\n\u001b[1;32m--> 624\u001b[1;33m         \u001b[1;32mreturn\u001b[0m \u001b[0msource\u001b[0m \u001b[1;33m==\u001b[0m \u001b[0mtarget\u001b[0m\u001b[1;33m\u001b[0m\u001b[1;33m\u001b[0m\u001b[0m\n\u001b[0m\u001b[0;32m    625\u001b[0m     \u001b[1;32mexcept\u001b[0m \u001b[1;33m(\u001b[0m\u001b[0mTypeError\u001b[0m\u001b[1;33m,\u001b[0m \u001b[0mAttributeError\u001b[0m\u001b[1;33m,\u001b[0m \u001b[0mImportError\u001b[0m\u001b[1;33m)\u001b[0m\u001b[1;33m:\u001b[0m\u001b[1;33m\u001b[0m\u001b[1;33m\u001b[0m\u001b[0m\n\u001b[0;32m    626\u001b[0m \u001b[1;33m\u001b[0m\u001b[0m\n",
      "\u001b[1;31mKeyboardInterrupt\u001b[0m: "
     ]
    }
   ],
   "source": [
    "# Read in all malicious data to dataframe\n",
    "df = pd.DataFrame(columns=[\"p_bytes\"])\n",
    "\n",
    "for folder in os.listdir(mal_dir):\n",
    "    i = 1\n",
    "    print(folder)\n",
    "    for file_name in os.listdir(mal_dir+\"\\\\\"+folder):    \n",
    "        print(str(i)+\"/\"+str(len(os.listdir(mal_dir+\"\\\\\"+folder))), end=\" : \")\n",
    "        df = parse_pcap(mal_dir+\"\\\\\"+folder+\"\\\\\"+file_name, df, 1)\n",
    "        i += 1"
   ]
  },
  {
   "cell_type": "code",
   "execution_count": null,
   "id": "25628fb7",
   "metadata": {},
   "outputs": [],
   "source": [
    "len(df)"
   ]
  },
  {
   "cell_type": "code",
   "execution_count": null,
   "id": "338f0e8d",
   "metadata": {},
   "outputs": [],
   "source": [
    "df.to_pickle('./raw_mal.pkl')"
   ]
  },
  {
   "cell_type": "code",
   "execution_count": 110,
   "id": "1006e2b5",
   "metadata": {},
   "outputs": [],
   "source": [
    "with open(test_dir, \"rb\") as f:\n",
    "        \n",
    "        # Read in section header block\n",
    "        block_type = f.read(4)\n",
    "        block_length = f.read(4)\n",
    "        magic_seq = f.read(4)\n",
    "        major_ver = f.read(2)\n",
    "        minor_ver = f.read(2)\n",
    "        sec_length = f.read(8)\n",
    "        options = f.read(int.from_bytes(block_length, \"little\")-28)\n",
    "        block_length2 = f.read(4)\n",
    "        \n",
    "        # Read in interface description block\n",
    "        b_type = f.read(4)\n",
    "        \n",
    "        while int.from_bytes(b_type, \"little\") == 1:\n",
    "        \n",
    "            #i_block_type = f.read(4)\n",
    "            i_block_length = f.read(4)\n",
    "            link_type = f.read(2)\n",
    "            res1 = f.read(2)\n",
    "            snap_length = f.read(4)\n",
    "            i_options = f.read(int.from_bytes(i_block_length, \"little\")-20)\n",
    "            i_block_length2 = f.read(4)\n",
    "            \n",
    "            b_type = f.read(4)\n",
    "        \n",
    "        # TODO: HAVE TO CHECK IF NEXT BLOCK IS ANOTHER INTERFACE BLOCK OR A PACKET BLOCK\n",
    "        \n",
    "        f.seek(-4)\n",
    "        \n",
    "        test = []\n",
    "        last_loc = 0\n",
    "        # Loop through all packets\n",
    "        while f.tell() != last_loc:\n",
    "            last_loc = f.tell()\n",
    "            # Read in packet header block\n",
    "            p_block_type = f.read(4)\n",
    "            p_block_length = int.from_bytes(f.read(4), \"little\")\n",
    "            if p_block_length==0:\n",
    "                break\n",
    "            interfaceID = f.read(4)\n",
    "            timestamp1 = f.read(4)\n",
    "            timestamp2 = f.read(4)\n",
    "            cap_len = int.from_bytes(f.read(4), \"little\")\n",
    "            p_len = f.read(4)\n",
    "\n",
    "            # Read in packet data\n",
    "            data = f.read(cap_len)\n",
    "            padding = 4-(cap_len%4)\n",
    "            if padding==4:\n",
    "                padding=0\n",
    "            f.read(padding)\n",
    "            options = f.read( p_block_length-(32+cap_len+padding) )\n",
    "            p_block_length2 = f.read(4)\n",
    "            \n",
    "            test.append(cap_len)\n",
    "        "
   ]
  },
  {
   "cell_type": "code",
   "execution_count": 86,
   "id": "31e4e999",
   "metadata": {},
   "outputs": [
    {
     "data": {
      "text/plain": [
       "'48 02 00 00'"
      ]
     },
     "execution_count": 86,
     "metadata": {},
     "output_type": "execute_result"
    }
   ],
   "source": [
    "p_block_length.hex(sep=\" \")"
   ]
  },
  {
   "cell_type": "code",
   "execution_count": 13,
   "id": "bd25ea0c",
   "metadata": {
    "scrolled": true
   },
   "outputs": [
    {
     "data": {
      "text/plain": [
       "52"
      ]
     },
     "execution_count": 13,
     "metadata": {},
     "output_type": "execute_result"
    }
   ],
   "source": [
    "int.from_bytes(block_length, \"little\")"
   ]
  },
  {
   "cell_type": "code",
   "execution_count": 14,
   "id": "03e6db7a",
   "metadata": {},
   "outputs": [
    {
     "data": {
      "text/html": [
       "<div>\n",
       "<style scoped>\n",
       "    .dataframe tbody tr th:only-of-type {\n",
       "        vertical-align: middle;\n",
       "    }\n",
       "\n",
       "    .dataframe tbody tr th {\n",
       "        vertical-align: top;\n",
       "    }\n",
       "\n",
       "    .dataframe thead th {\n",
       "        text-align: right;\n",
       "    }\n",
       "</style>\n",
       "<table border=\"1\" class=\"dataframe\">\n",
       "  <thead>\n",
       "    <tr style=\"text-align: right;\">\n",
       "      <th></th>\n",
       "      <th>p_bytes</th>\n",
       "      <th>label</th>\n",
       "    </tr>\n",
       "  </thead>\n",
       "  <tbody>\n",
       "    <tr>\n",
       "      <th>0</th>\n",
       "      <td>b'\\'\\x02\\x00\\x00\\'\\x02\\x00\\x00\\x00\\x04\\x00\\x01...</td>\n",
       "      <td>0.0</td>\n",
       "    </tr>\n",
       "    <tr>\n",
       "      <th>1</th>\n",
       "      <td>b'(\\x02\\x00\\x00(\\x02\\x00\\x00\\x00\\x04\\x00\\x01\\x...</td>\n",
       "      <td>0.0</td>\n",
       "    </tr>\n",
       "    <tr>\n",
       "      <th>2</th>\n",
       "      <td>b'\\xbd\\x00\\x00\\x00\\xbd\\x00\\x00\\x00\\x00\\x03\\x00...</td>\n",
       "      <td>0.0</td>\n",
       "    </tr>\n",
       "    <tr>\n",
       "      <th>3</th>\n",
       "      <td>b'\\xbd\\x00\\x00\\x00\\xbd\\x00\\x00\\x00\\x00\\x00\\x00...</td>\n",
       "      <td>0.0</td>\n",
       "    </tr>\n",
       "    <tr>\n",
       "      <th>4</th>\n",
       "      <td>b'D\\x00\\x00\\x00D\\x00\\x00\\x00\\x00\\x04\\x00\\x01\\x...</td>\n",
       "      <td>0.0</td>\n",
       "    </tr>\n",
       "  </tbody>\n",
       "</table>\n",
       "</div>"
      ],
      "text/plain": [
       "                                             p_bytes  label\n",
       "0  b'\\'\\x02\\x00\\x00\\'\\x02\\x00\\x00\\x00\\x04\\x00\\x01...    0.0\n",
       "1  b'(\\x02\\x00\\x00(\\x02\\x00\\x00\\x00\\x04\\x00\\x01\\x...    0.0\n",
       "2  b'\\xbd\\x00\\x00\\x00\\xbd\\x00\\x00\\x00\\x00\\x03\\x00...    0.0\n",
       "3  b'\\xbd\\x00\\x00\\x00\\xbd\\x00\\x00\\x00\\x00\\x00\\x00...    0.0\n",
       "4  b'D\\x00\\x00\\x00D\\x00\\x00\\x00\\x00\\x04\\x00\\x01\\x...    0.0"
      ]
     },
     "execution_count": 14,
     "metadata": {},
     "output_type": "execute_result"
    }
   ],
   "source": [
    "df.head()"
   ]
  },
  {
   "cell_type": "code",
   "execution_count": 307,
   "id": "445d8dcb",
   "metadata": {},
   "outputs": [],
   "source": [
    "test = []\n",
    "for packet in df['p_bytes']:\n",
    "    #test.append([x+1 for x in list(packet)])\n",
    "    test.append(list(packet))"
   ]
  },
  {
   "cell_type": "code",
   "execution_count": 15,
   "id": "83df69c7",
   "metadata": {},
   "outputs": [
    {
     "ename": "NameError",
     "evalue": "name 'test' is not defined",
     "output_type": "error",
     "traceback": [
      "\u001b[1;31m---------------------------------------------------------------------------\u001b[0m",
      "\u001b[1;31mNameError\u001b[0m                                 Traceback (most recent call last)",
      "\u001b[1;32m~\\AppData\\Local\\Temp\\ipykernel_22708\\1532897994.py\u001b[0m in \u001b[0;36m<module>\u001b[1;34m\u001b[0m\n\u001b[1;32m----> 1\u001b[1;33m \u001b[0mlen\u001b[0m\u001b[1;33m(\u001b[0m\u001b[0mtest\u001b[0m\u001b[1;33m)\u001b[0m\u001b[1;33m\u001b[0m\u001b[1;33m\u001b[0m\u001b[0m\n\u001b[0m",
      "\u001b[1;31mNameError\u001b[0m: name 'test' is not defined"
     ]
    }
   ],
   "source": [
    "len(test)"
   ]
  },
  {
   "cell_type": "code",
   "execution_count": 309,
   "id": "482c75bf",
   "metadata": {},
   "outputs": [],
   "source": [
    "df['tokenized'] = test"
   ]
  },
  {
   "cell_type": "code",
   "execution_count": 311,
   "id": "57ee13d0",
   "metadata": {},
   "outputs": [
    {
     "data": {
      "text/html": [
       "<div>\n",
       "<style scoped>\n",
       "    .dataframe tbody tr th:only-of-type {\n",
       "        vertical-align: middle;\n",
       "    }\n",
       "\n",
       "    .dataframe tbody tr th {\n",
       "        vertical-align: top;\n",
       "    }\n",
       "\n",
       "    .dataframe thead th {\n",
       "        text-align: right;\n",
       "    }\n",
       "</style>\n",
       "<table border=\"1\" class=\"dataframe\">\n",
       "  <thead>\n",
       "    <tr style=\"text-align: right;\">\n",
       "      <th></th>\n",
       "      <th>p_bytes</th>\n",
       "      <th>label</th>\n",
       "      <th>tokenized</th>\n",
       "    </tr>\n",
       "  </thead>\n",
       "  <tbody>\n",
       "    <tr>\n",
       "      <th>0</th>\n",
       "      <td>b'\\'\\x02\\x00\\x00\\'\\x02\\x00\\x00\\x00\\x04\\x00\\x01...</td>\n",
       "      <td>0.0</td>\n",
       "      <td>[39, 2, 0, 0, 39, 2, 0, 0, 0, 4, 0, 1, 0, 6, 1...</td>\n",
       "    </tr>\n",
       "    <tr>\n",
       "      <th>1</th>\n",
       "      <td>b'(\\x02\\x00\\x00(\\x02\\x00\\x00\\x00\\x04\\x00\\x01\\x...</td>\n",
       "      <td>0.0</td>\n",
       "      <td>[40, 2, 0, 0, 40, 2, 0, 0, 0, 4, 0, 1, 0, 6, 1...</td>\n",
       "    </tr>\n",
       "    <tr>\n",
       "      <th>2</th>\n",
       "      <td>b'\\xbd\\x00\\x00\\x00\\xbd\\x00\\x00\\x00\\x00\\x03\\x00...</td>\n",
       "      <td>0.0</td>\n",
       "      <td>[189, 0, 0, 0, 189, 0, 0, 0, 0, 3, 0, 1, 0, 6,...</td>\n",
       "    </tr>\n",
       "    <tr>\n",
       "      <th>3</th>\n",
       "      <td>b'\\xbd\\x00\\x00\\x00\\xbd\\x00\\x00\\x00\\x00\\x00\\x00...</td>\n",
       "      <td>0.0</td>\n",
       "      <td>[189, 0, 0, 0, 189, 0, 0, 0, 0, 0, 0, 1, 0, 6,...</td>\n",
       "    </tr>\n",
       "    <tr>\n",
       "      <th>4</th>\n",
       "      <td>b'D\\x00\\x00\\x00D\\x00\\x00\\x00\\x00\\x04\\x00\\x01\\x...</td>\n",
       "      <td>0.0</td>\n",
       "      <td>[68, 0, 0, 0, 68, 0, 0, 0, 0, 4, 0, 1, 0, 6, 0...</td>\n",
       "    </tr>\n",
       "  </tbody>\n",
       "</table>\n",
       "</div>"
      ],
      "text/plain": [
       "                                             p_bytes  label  \\\n",
       "0  b'\\'\\x02\\x00\\x00\\'\\x02\\x00\\x00\\x00\\x04\\x00\\x01...    0.0   \n",
       "1  b'(\\x02\\x00\\x00(\\x02\\x00\\x00\\x00\\x04\\x00\\x01\\x...    0.0   \n",
       "2  b'\\xbd\\x00\\x00\\x00\\xbd\\x00\\x00\\x00\\x00\\x03\\x00...    0.0   \n",
       "3  b'\\xbd\\x00\\x00\\x00\\xbd\\x00\\x00\\x00\\x00\\x00\\x00...    0.0   \n",
       "4  b'D\\x00\\x00\\x00D\\x00\\x00\\x00\\x00\\x04\\x00\\x01\\x...    0.0   \n",
       "\n",
       "                                           tokenized  \n",
       "0  [39, 2, 0, 0, 39, 2, 0, 0, 0, 4, 0, 1, 0, 6, 1...  \n",
       "1  [40, 2, 0, 0, 40, 2, 0, 0, 0, 4, 0, 1, 0, 6, 1...  \n",
       "2  [189, 0, 0, 0, 189, 0, 0, 0, 0, 3, 0, 1, 0, 6,...  \n",
       "3  [189, 0, 0, 0, 189, 0, 0, 0, 0, 0, 0, 1, 0, 6,...  \n",
       "4  [68, 0, 0, 0, 68, 0, 0, 0, 0, 4, 0, 1, 0, 6, 0...  "
      ]
     },
     "execution_count": 311,
     "metadata": {},
     "output_type": "execute_result"
    }
   ],
   "source": [
    "df.head()"
   ]
  },
  {
   "cell_type": "code",
   "execution_count": null,
   "id": "37b4d230",
   "metadata": {},
   "outputs": [],
   "source": []
  },
  {
   "cell_type": "code",
   "execution_count": null,
   "id": "45222202",
   "metadata": {},
   "outputs": [],
   "source": [
    "# Create neural network utilizing embedding layer"
   ]
  },
  {
   "cell_type": "code",
   "execution_count": null,
   "id": "e87ae4d3",
   "metadata": {},
   "outputs": [],
   "source": []
  }
 ],
 "metadata": {
  "kernelspec": {
   "display_name": "Python 3 (ipykernel)",
   "language": "python",
   "name": "python3"
  },
  "language_info": {
   "codemirror_mode": {
    "name": "ipython",
    "version": 3
   },
   "file_extension": ".py",
   "mimetype": "text/x-python",
   "name": "python",
   "nbconvert_exporter": "python",
   "pygments_lexer": "ipython3",
   "version": "3.9.13"
  }
 },
 "nbformat": 4,
 "nbformat_minor": 5
}
